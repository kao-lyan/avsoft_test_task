{
 "cells": [
  {
   "cell_type": "markdown",
   "metadata": {
    "id": "rwMDoIxK60zS"
   },
   "source": [
    "## Тестовое задание \"АВ Софт\" на должность  Junior Machine Learning Engineer\n",
    "Выполнил: Новиков Николай"
   ]
  },
  {
   "cell_type": "markdown",
   "metadata": {
    "id": "qFAoJ5It60zT"
   },
   "source": [
    "### Условие задания\n",
    "− Необходимо реализовать модель на основе данного датасета  \n",
    "− Для достижения данной цели нужно обработать датасет, привести его в вид, готовый для обучения с помощью модели МЛ (выбор модели зависит только от вас, ограничений на это\n",
    "нет)  \n",
    "\n",
    "Требования:  \n",
    "− Python script/ Python Jupyter notebook  \n",
    "\n",
    "Материалы:  \n",
    "− Ссылка на датасет:   \n",
    "https://drive.google.com/file/d/1lL9XWBR_3F4xozizi0aOEfrI-VqqNcKw/view?usp=sharing  \n",
    "Описание датасета:  \n",
    "− Датасет описывает некоторую зависимость числа bugs от значений repository_name, commit_hash, commit_date, commit_author, commit_message. Вам необходимо выявить данную зависимость и написать скрипт/ноутбук, обучающий модель по данному датасету  \n",
    "  \n",
    "Готовый проект выложить на GitHub и прислать ссылку"
   ]
  },
  {
   "cell_type": "markdown",
   "metadata": {
    "id": "AuX6-SDE60zT"
   },
   "source": [
    "### Сведения о среде  \n",
    " - Google Colaboratory и Kaggle Notebook. Выбор облачной платформы обоснован возможностью работы на GPU (необходим для работы с текстовыми признаками средствами библиотеки CatBoost)."
   ]
  },
  {
   "cell_type": "markdown",
   "metadata": {
    "id": "SliGpMYeeXhN"
   },
   "source": [
    "### 1. Предварительный анализ и предобработка данных"
   ]
  },
  {
   "cell_type": "code",
   "execution_count": 1,
   "metadata": {
    "id": "SqRd8xcl60zY",
    "outputId": "d2173d1c-7268-4bb9-e692-b66258e3dc08"
   },
   "outputs": [],
   "source": [
    "import pandas as pd\n",
    "import seaborn as sns\n",
    "import matplotlib.pyplot as plt\n",
    "import numpy as np\n",
    "from statsmodels.tsa.seasonal import seasonal_decompose\n",
    "from sklearn.model_selection import train_test_split\n",
    "from sklearn.linear_model import LogisticRegression, LinearRegression\n",
    "from sklearn.metrics import mean_absolute_error\n",
    "from sklearn.preprocessing import OrdinalEncoder\n",
    "from catboost import Pool, cv, CatBoostClassifier, CatBoostRegressor\n",
    "import warnings\n",
    "\n",
    "warnings.filterwarnings('ignore')"
   ]
  },
  {
   "cell_type": "code",
   "execution_count": 2,
   "metadata": {
    "id": "ovO4Yh3k60za"
   },
   "outputs": [],
   "source": [
    "df = pd.read_csv('../input/avsoft-test-dataset/train.csv')"
   ]
  },
  {
   "cell_type": "code",
   "execution_count": 3,
   "metadata": {
    "id": "B0nXrQBM60zd",
    "outputId": "bef1cd7a-a5c2-4b13-c6ee-82e042b4e635"
   },
   "outputs": [
    {
     "name": "stdout",
     "output_type": "stream",
     "text": [
      "<class 'pandas.core.frame.DataFrame'>\n",
      "RangeIndex: 319 entries, 0 to 318\n",
      "Data columns (total 6 columns):\n",
      " #   Column           Non-Null Count  Dtype \n",
      "---  ------           --------------  ----- \n",
      " 0   repository_name  319 non-null    object\n",
      " 1   commit_hash      319 non-null    object\n",
      " 2   commit_date      319 non-null    object\n",
      " 3   commit_author    319 non-null    object\n",
      " 4   commit_message   319 non-null    object\n",
      " 5   bugs             319 non-null    int64 \n",
      "dtypes: int64(1), object(5)\n",
      "memory usage: 15.1+ KB\n",
      "None\n"
     ]
    },
    {
     "data": {
      "text/html": [
       "<div>\n",
       "<style scoped>\n",
       "    .dataframe tbody tr th:only-of-type {\n",
       "        vertical-align: middle;\n",
       "    }\n",
       "\n",
       "    .dataframe tbody tr th {\n",
       "        vertical-align: top;\n",
       "    }\n",
       "\n",
       "    .dataframe thead th {\n",
       "        text-align: right;\n",
       "    }\n",
       "</style>\n",
       "<table border=\"1\" class=\"dataframe\">\n",
       "  <thead>\n",
       "    <tr style=\"text-align: right;\">\n",
       "      <th></th>\n",
       "      <th>repository_name</th>\n",
       "      <th>commit_hash</th>\n",
       "      <th>commit_date</th>\n",
       "      <th>commit_author</th>\n",
       "      <th>commit_message</th>\n",
       "      <th>bugs</th>\n",
       "    </tr>\n",
       "  </thead>\n",
       "  <tbody>\n",
       "    <tr>\n",
       "      <th>0</th>\n",
       "      <td>mlm</td>\n",
       "      <td>b28abb42</td>\n",
       "      <td>2020-06-12T14:26:12</td>\n",
       "      <td>Victor</td>\n",
       "      <td>объяснения предсказаний с помощью lime</td>\n",
       "      <td>4</td>\n",
       "    </tr>\n",
       "    <tr>\n",
       "      <th>1</th>\n",
       "      <td>mlm</td>\n",
       "      <td>438b5c4d</td>\n",
       "      <td>2020-06-12T11:53:10</td>\n",
       "      <td>Victor</td>\n",
       "      <td>Поставил lime вместо eli5</td>\n",
       "      <td>3</td>\n",
       "    </tr>\n",
       "    <tr>\n",
       "      <th>2</th>\n",
       "      <td>mlm</td>\n",
       "      <td>8e6e4f31</td>\n",
       "      <td>2020-06-11T15:19:03</td>\n",
       "      <td>Victor</td>\n",
       "      <td>Скрипт для создния пакетов обновления</td>\n",
       "      <td>4</td>\n",
       "    </tr>\n",
       "    <tr>\n",
       "      <th>3</th>\n",
       "      <td>mlm</td>\n",
       "      <td>5e0956a6</td>\n",
       "      <td>2020-06-11T10:42:29</td>\n",
       "      <td>Victor</td>\n",
       "      <td>Сортировка весов по убыванию</td>\n",
       "      <td>3</td>\n",
       "    </tr>\n",
       "    <tr>\n",
       "      <th>4</th>\n",
       "      <td>mlm</td>\n",
       "      <td>b9f4b40c</td>\n",
       "      <td>2020-06-11T09:25:19</td>\n",
       "      <td>Victor</td>\n",
       "      <td>не надо конвертировать массив до операции по с...</td>\n",
       "      <td>7</td>\n",
       "    </tr>\n",
       "    <tr>\n",
       "      <th>5</th>\n",
       "      <td>mlm</td>\n",
       "      <td>4f5f3743</td>\n",
       "      <td>2020-06-11T09:12:37</td>\n",
       "      <td>Peggy</td>\n",
       "      <td>Добавлено больше логирования и фикс до частичн...</td>\n",
       "      <td>6</td>\n",
       "    </tr>\n",
       "    <tr>\n",
       "      <th>6</th>\n",
       "      <td>mlm</td>\n",
       "      <td>24a11c40</td>\n",
       "      <td>2020-06-10T15:34:22</td>\n",
       "      <td>Victor</td>\n",
       "      <td>Отладка, чтоб оно хотябы запускалось</td>\n",
       "      <td>4</td>\n",
       "    </tr>\n",
       "    <tr>\n",
       "      <th>7</th>\n",
       "      <td>mlm</td>\n",
       "      <td>3287c74a</td>\n",
       "      <td>2020-06-10T15:34:04</td>\n",
       "      <td>Victor</td>\n",
       "      <td>Добавил скрипт для запуска контейнера</td>\n",
       "      <td>4</td>\n",
       "    </tr>\n",
       "    <tr>\n",
       "      <th>8</th>\n",
       "      <td>mlm</td>\n",
       "      <td>c78d5187</td>\n",
       "      <td>2020-06-10T15:22:21</td>\n",
       "      <td>Victor</td>\n",
       "      <td>label не нужен</td>\n",
       "      <td>2</td>\n",
       "    </tr>\n",
       "    <tr>\n",
       "      <th>9</th>\n",
       "      <td>mlm</td>\n",
       "      <td>bcb47e60</td>\n",
       "      <td>2020-06-10T14:54:14</td>\n",
       "      <td>Victor</td>\n",
       "      <td>Установка всех зависимостей теперь в докер файле</td>\n",
       "      <td>5</td>\n",
       "    </tr>\n",
       "  </tbody>\n",
       "</table>\n",
       "</div>"
      ],
      "text/plain": [
       "  repository_name commit_hash          commit_date commit_author  \\\n",
       "0             mlm    b28abb42  2020-06-12T14:26:12        Victor   \n",
       "1             mlm    438b5c4d  2020-06-12T11:53:10        Victor   \n",
       "2             mlm    8e6e4f31  2020-06-11T15:19:03        Victor   \n",
       "3             mlm    5e0956a6  2020-06-11T10:42:29        Victor   \n",
       "4             mlm    b9f4b40c  2020-06-11T09:25:19        Victor   \n",
       "5             mlm    4f5f3743  2020-06-11T09:12:37         Peggy   \n",
       "6             mlm    24a11c40  2020-06-10T15:34:22        Victor   \n",
       "7             mlm    3287c74a  2020-06-10T15:34:04        Victor   \n",
       "8             mlm    c78d5187  2020-06-10T15:22:21        Victor   \n",
       "9             mlm    bcb47e60  2020-06-10T14:54:14        Victor   \n",
       "\n",
       "                                      commit_message  bugs  \n",
       "0             объяснения предсказаний с помощью lime     4  \n",
       "1                          Поставил lime вместо eli5     3  \n",
       "2              Скрипт для создния пакетов обновления     4  \n",
       "3                       Сортировка весов по убыванию     3  \n",
       "4  не надо конвертировать массив до операции по с...     7  \n",
       "5  Добавлено больше логирования и фикс до частичн...     6  \n",
       "6               Отладка, чтоб оно хотябы запускалось     4  \n",
       "7              Добавил скрипт для запуска контейнера     4  \n",
       "8                                     label не нужен     2  \n",
       "9   Установка всех зависимостей теперь в докер файле     5  "
      ]
     },
     "execution_count": 3,
     "metadata": {},
     "output_type": "execute_result"
    }
   ],
   "source": [
    "# Просмотр таблицы\n",
    "print(df.info())\n",
    "df.head(10)"
   ]
  },
  {
   "cell_type": "code",
   "execution_count": 4,
   "metadata": {
    "id": "SbppZi0J60zf",
    "outputId": "06787981-6555-4c7f-eef5-14154051afe7"
   },
   "outputs": [
    {
     "name": "stdout",
     "output_type": "stream",
     "text": [
      "repository_name\n",
      "conductor    114\n",
      "sensor       102\n",
      "mlm           41\n",
      "standard      29\n",
      "dockers       19\n",
      "agent         14\n",
      "Name: repository_name, dtype: int64\n",
      "\n",
      "commit_hash\n",
      "ea2c04d4    1\n",
      "92aa277c    1\n",
      "f946e945    1\n",
      "5dbea449    1\n",
      "f70f35c5    1\n",
      "           ..\n",
      "510b9895    1\n",
      "e748af51    1\n",
      "8733e39c    1\n",
      "d6826da7    1\n",
      "dea39c26    1\n",
      "Name: commit_hash, Length: 319, dtype: int64\n",
      "\n",
      "commit_date\n",
      "2020-06-10T10:17:03    2\n",
      "2020-06-12T14:26:12    1\n",
      "2020-03-23T14:54:47    1\n",
      "2020-04-22T19:07:30    1\n",
      "2020-06-10T14:32:09    1\n",
      "                      ..\n",
      "2020-05-01T11:16:37    1\n",
      "2020-05-14T15:06:39    1\n",
      "2020-03-15T17:02:12    1\n",
      "2020-05-21T15:47:32    1\n",
      "2020-05-13T16:35:53    1\n",
      "Name: commit_date, Length: 318, dtype: int64\n",
      "\n",
      "commit_author\n",
      "Victor     134\n",
      "Mallory     67\n",
      "Wendy       48\n",
      "Dabe        42\n",
      "Trudy        9\n",
      "Eve          9\n",
      "Carol        4\n",
      "Peggy        2\n",
      "Bob          2\n",
      "Alice        2\n",
      "Name: commit_author, dtype: int64\n",
      "\n",
      "commit_message\n",
      "Merge branch 'changes-to-merge' into 'master'                                    4\n",
      "Initial commit                                                                   3\n",
      "Update service.py                                                                2\n",
      "Merge branch 'master' of                                                         2\n",
      "fix set_state                                                                    2\n",
      "                                                                                ..\n",
      "logstash memory restriction                                                      1\n",
      "hdf5 не умеет хранить матрицы различных типов, сделал группу с хешами, а в...    1\n",
      "secure webservice ip                                                             1\n",
      "docker files are moved into docker branch                                        1\n",
      "не надо конвертировать массив до операции по смене знака                         1\n",
      "Name: commit_message, Length: 309, dtype: int64\n",
      "\n",
      "bugs\n",
      "2     96\n",
      "3     75\n",
      "4     51\n",
      "1     44\n",
      "5     19\n",
      "6     10\n",
      "0      8\n",
      "7      7\n",
      "8      3\n",
      "12     2\n",
      "9      2\n",
      "11     1\n",
      "10     1\n",
      "Name: bugs, dtype: int64\n",
      "\n"
     ]
    }
   ],
   "source": [
    "# Счетчики значений для каждого столбца\n",
    "for column in df:\n",
    "    print(column)\n",
    "    print(df[column].value_counts())\n",
    "    print()"
   ]
  },
  {
   "cell_type": "markdown",
   "metadata": {
    "id": "gqKAWTJmetD3"
   },
   "source": [
    "Датасет описывает работу нескольких авторов с несколькими репозиториями. Столбцы следует привести к соответствующим форматам. Столбец с хэшем коммита неинформативен (уникален для каждого объекта, алгоритм хеширования не должен позволять извлечь какие-либо данные об объекте по его хешу) - его удаляем."
   ]
  },
  {
   "cell_type": "code",
   "execution_count": 5,
   "metadata": {
    "id": "wJmYT36s60zi",
    "outputId": "8b2322d9-65e8-4ac5-ff6b-601733c97a3b"
   },
   "outputs": [
    {
     "name": "stdout",
     "output_type": "stream",
     "text": [
      "<class 'pandas.core.frame.DataFrame'>\n",
      "RangeIndex: 319 entries, 0 to 318\n",
      "Data columns (total 5 columns):\n",
      " #   Column           Non-Null Count  Dtype         \n",
      "---  ------           --------------  -----         \n",
      " 0   repository_name  319 non-null    object        \n",
      " 1   commit_date      319 non-null    datetime64[ns]\n",
      " 2   commit_author    319 non-null    object        \n",
      " 3   commit_message   319 non-null    object        \n",
      " 4   bugs             319 non-null    int64         \n",
      "dtypes: datetime64[ns](1), int64(1), object(3)\n",
      "memory usage: 12.6+ KB\n"
     ]
    }
   ],
   "source": [
    "df.drop(columns='commit_hash', inplace=True)\n",
    "df['commit_date'] = pd.to_datetime(df['commit_date'])\n",
    "df['bugs'] = pd.to_numeric(df['bugs'])\n",
    "df.info()"
   ]
  },
  {
   "cell_type": "code",
   "execution_count": 6,
   "metadata": {
    "id": "5jt8TOQe60zk",
    "outputId": "a2ab3711-59b6-4c2b-93c2-9903b7338c0b"
   },
   "outputs": [
    {
     "name": "stdout",
     "output_type": "stream",
     "text": [
      "repository_name\n"
     ]
    },
    {
     "data": {
      "image/png": "[encoded data removed]",
      "text/plain": [
       "<Figure size 432x288 with 1 Axes>"
      ]
     },
     "metadata": {
      "needs_background": "light"
     },
     "output_type": "display_data"
    },
    {
     "name": "stdout",
     "output_type": "stream",
     "text": [
      "\n",
      "commit_date\n"
     ]
    },
    {
     "data": {
      "image/png": "[encoded data removed]",
      "text/plain": [
       "<Figure size 432x288 with 1 Axes>"
      ]
     },
     "metadata": {
      "needs_background": "light"
     },
     "output_type": "display_data"
    },
    {
     "name": "stdout",
     "output_type": "stream",
     "text": [
      "\n",
      "commit_author\n"
     ]
    },
    {
     "data": {
      "image/png": "[encoded data removed]",
      "text/plain": [
       "<Figure size 432x288 with 1 Axes>"
      ]
     },
     "metadata": {
      "needs_background": "light"
     },
     "output_type": "display_data"
    },
    {
     "name": "stdout",
     "output_type": "stream",
     "text": [
      "\n",
      "bugs\n"
     ]
    },
    {
     "data": {
      "image/png": "[encoded data removed]",
      "text/plain": [
       "<Figure size 432x288 with 1 Axes>"
      ]
     },
     "metadata": {
      "needs_background": "light"
     },
     "output_type": "display_data"
    },
    {
     "name": "stdout",
     "output_type": "stream",
     "text": [
      "\n"
     ]
    }
   ],
   "source": [
    "# Просмотр распределения признаков\n",
    "for column in df.drop(columns='commit_message'):\n",
    "    print(column)\n",
    "    df[column].hist()\n",
    "    plt.show()\n",
    "    print()"
   ]
  },
  {
   "cell_type": "markdown",
   "metadata": {
    "id": "NDqCdisgf6Of"
   },
   "source": [
    "Просмтрим гистограммы распределения и диаграммы размаха целевого признака при группировке по авторам и по репозиториям:"
   ]
  },
  {
   "cell_type": "code",
   "execution_count": 7,
   "metadata": {
    "id": "3EsQXQSg60zo",
    "outputId": "2e82c051-10f3-48c3-8ad6-bf540e80d0f1"
   },
   "outputs": [
    {
     "data": {
      "text/html": [
       "<div>\n",
       "<style scoped>\n",
       "    .dataframe tbody tr th:only-of-type {\n",
       "        vertical-align: middle;\n",
       "    }\n",
       "\n",
       "    .dataframe tbody tr th {\n",
       "        vertical-align: top;\n",
       "    }\n",
       "\n",
       "    .dataframe thead th {\n",
       "        text-align: right;\n",
       "    }\n",
       "</style>\n",
       "<table border=\"1\" class=\"dataframe\">\n",
       "  <thead>\n",
       "    <tr style=\"text-align: right;\">\n",
       "      <th></th>\n",
       "      <th>repository_name</th>\n",
       "      <th>commit_author</th>\n",
       "      <th>bugs</th>\n",
       "    </tr>\n",
       "  </thead>\n",
       "  <tbody>\n",
       "    <tr>\n",
       "      <th>0</th>\n",
       "      <td>Total</td>\n",
       "      <td>Total</td>\n",
       "      <td>4</td>\n",
       "    </tr>\n",
       "    <tr>\n",
       "      <th>1</th>\n",
       "      <td>Total</td>\n",
       "      <td>Total</td>\n",
       "      <td>3</td>\n",
       "    </tr>\n",
       "    <tr>\n",
       "      <th>2</th>\n",
       "      <td>Total</td>\n",
       "      <td>Total</td>\n",
       "      <td>4</td>\n",
       "    </tr>\n",
       "    <tr>\n",
       "      <th>3</th>\n",
       "      <td>Total</td>\n",
       "      <td>Total</td>\n",
       "      <td>3</td>\n",
       "    </tr>\n",
       "    <tr>\n",
       "      <th>4</th>\n",
       "      <td>Total</td>\n",
       "      <td>Total</td>\n",
       "      <td>7</td>\n",
       "    </tr>\n",
       "  </tbody>\n",
       "</table>\n",
       "</div>"
      ],
      "text/plain": [
       "  repository_name commit_author  bugs\n",
       "0           Total         Total     4\n",
       "1           Total         Total     3\n",
       "2           Total         Total     4\n",
       "3           Total         Total     3\n",
       "4           Total         Total     7"
      ]
     },
     "execution_count": 7,
     "metadata": {},
     "output_type": "execute_result"
    }
   ],
   "source": [
    "# Всполмогательный датасет для нанесения слоя с общим распределением\n",
    "df_total = df[['repository_name', 'commit_author', 'bugs']].copy()\n",
    "df_total[['repository_name', 'commit_author']] = 'Total'\n",
    "df_total.head()"
   ]
  },
  {
   "cell_type": "code",
   "execution_count": 8,
   "metadata": {
    "id": "qzgVummt60zq",
    "outputId": "d66c10de-0ec8-4666-d460-f5dc7dc27557",
    "scrolled": false
   },
   "outputs": [
    {
     "name": "stdout",
     "output_type": "stream",
     "text": [
      "Группировка по repository_name\n",
      "\n",
      "К-во записей для каждого значения:\n",
      "conductor    114\n",
      "sensor       102\n",
      "mlm           41\n",
      "standard      29\n",
      "dockers       19\n",
      "agent         14\n",
      "Name: repository_name, dtype: int64\n"
     ]
    },
    {
     "data": {
      "image/png": "[encoded data removed]",
      "text/plain": [
       "<Figure size 504x720 with 1 Axes>"
      ]
     },
     "metadata": {
      "needs_background": "light"
     },
     "output_type": "display_data"
    },
    {
     "data": {
      "image/png": "[encoded data removed]",
      "text/plain": [
       "<Figure size 432x288 with 1 Axes>"
      ]
     },
     "metadata": {
      "needs_background": "light"
     },
     "output_type": "display_data"
    },
    {
     "name": "stdout",
     "output_type": "stream",
     "text": [
      "\n",
      "\n",
      "\n",
      "Группировка по commit_author\n",
      "\n",
      "К-во записей для каждого значения:\n",
      "Victor     134\n",
      "Mallory     67\n",
      "Wendy       48\n",
      "Dabe        42\n",
      "Trudy        9\n",
      "Eve          9\n",
      "Carol        4\n",
      "Peggy        2\n",
      "Bob          2\n",
      "Alice        2\n",
      "Name: commit_author, dtype: int64\n"
     ]
    },
    {
     "data": {
      "image/png": "[encoded data removed]",
      "text/plain": [
       "<Figure size 504x720 with 1 Axes>"
      ]
     },
     "metadata": {
      "needs_background": "light"
     },
     "output_type": "display_data"
    },
    {
     "data": {
      "image/png": "[encoded data removed]",
      "text/plain": [
       "<Figure size 432x288 with 1 Axes>"
      ]
     },
     "metadata": {
      "needs_background": "light"
     },
     "output_type": "display_data"
    },
    {
     "name": "stdout",
     "output_type": "stream",
     "text": [
      "\n",
      "\n",
      "\n"
     ]
    }
   ],
   "source": [
    "for column in ['repository_name', 'commit_author']:\n",
    "    ax = df.plot(kind='hist', y='bugs', bins=12,\n",
    "             linewidth=3, alpha=0.7, label='Total')\n",
    "    print('Группировка по', column)\n",
    "    print()\n",
    "    print('К-во записей для каждого значения:')\n",
    "    print(df[column].value_counts())\n",
    "    for value in df[column].unique():\n",
    "        # Подбираем оптимально к-во \"корзин\" для каждого признака\n",
    "        bins = df[df[column] == value]['bugs'].max() - \\\n",
    "               df[df[column] == value]['bugs'].min()\n",
    "        df[df[column] == value].plot(kind='hist', y='bugs', \n",
    "                                     histtype='step', bins=bins,\n",
    "                                     linewidth=3, alpha=0.7,\n",
    "                                     label=value, figsize=(7,10), \n",
    "                                     grid=True, ax=ax)\n",
    "    ax.set_xlabel('bugs')\n",
    "    plt.show()\n",
    "    sns.boxplot(y=column, x=\"bugs\", data=pd.concat([df, df_total]), \n",
    "                orient=\"h\")\n",
    "    plt.show()\n",
    "    print('\\n\\n')"
   ]
  },
  {
   "cell_type": "code",
   "execution_count": 9,
   "metadata": {
    "id": "10Lc3vYS60zt",
    "outputId": "52549b49-57ec-4076-cb20-7d41963a3a94"
   },
   "outputs": [
    {
     "data": {
      "text/plain": [
       "repository_name  commit_author\n",
       "agent            Victor           14\n",
       "conductor        Dabe             35\n",
       "                 Eve               3\n",
       "                 Mallory          36\n",
       "                 Trudy             6\n",
       "                 Victor           18\n",
       "                 Wendy            16\n",
       "dockers          Bob               2\n",
       "                 Carol             4\n",
       "                 Mallory           3\n",
       "                 Victor            3\n",
       "                 Wendy             7\n",
       "mlm              Peggy             2\n",
       "                 Victor           39\n",
       "sensor           Alice             2\n",
       "                 Dabe              7\n",
       "                 Eve               6\n",
       "                 Mallory          28\n",
       "                 Trudy             3\n",
       "                 Victor           47\n",
       "                 Wendy             9\n",
       "standard         Victor           13\n",
       "                 Wendy            16\n",
       "Name: commit_message, dtype: int64"
      ]
     },
     "execution_count": 9,
     "metadata": {},
     "output_type": "execute_result"
    }
   ],
   "source": [
    "# К-во записей в каждом репозитории каждым автором\n",
    "df.groupby(['repository_name', \n",
    "            'commit_author'])['commit_message'].count()"
   ]
  },
  {
   "cell_type": "code",
   "execution_count": 10,
   "metadata": {
    "id": "IxELKkQY60zv",
    "outputId": "a27f46a9-25c1-4e0c-8c18-667bf30be0f7"
   },
   "outputs": [
    {
     "data": {
      "text/plain": [
       "commit_author  repository_name\n",
       "Alice          sensor              2\n",
       "Bob            dockers             2\n",
       "Carol          dockers             4\n",
       "Dabe           conductor          35\n",
       "               sensor              7\n",
       "Eve            conductor           3\n",
       "               sensor              6\n",
       "Mallory        conductor          36\n",
       "               dockers             3\n",
       "               sensor             28\n",
       "Peggy          mlm                 2\n",
       "Trudy          conductor           6\n",
       "               sensor              3\n",
       "Victor         agent              14\n",
       "               conductor          18\n",
       "               dockers             3\n",
       "               mlm                39\n",
       "               sensor             47\n",
       "               standard           13\n",
       "Wendy          conductor          16\n",
       "               dockers             7\n",
       "               sensor              9\n",
       "               standard           16\n",
       "Name: commit_message, dtype: int64"
      ]
     },
     "execution_count": 10,
     "metadata": {},
     "output_type": "execute_result"
    }
   ],
   "source": [
    "# К-во записей каждым автором в каждом репозитории\n",
    "df.groupby(['commit_author', \n",
    "            'repository_name'])['commit_message'].count()"
   ]
  },
  {
   "cell_type": "markdown",
   "metadata": {
    "id": "CF1HGMIvjI43"
   },
   "source": [
    "**Анализ верменного ряда**"
   ]
  },
  {
   "cell_type": "code",
   "execution_count": 11,
   "metadata": {
    "id": "Ypm8bxeG60z2",
    "outputId": "f0a7a707-3e3e-4375-e544-da53b64b204d"
   },
   "outputs": [
    {
     "data": {
      "image/png": "[encoded data removed]",
      "text/plain": [
       "<Figure size 1080x360 with 1 Axes>"
      ]
     },
     "metadata": {
      "needs_background": "light"
     },
     "output_type": "display_data"
    }
   ],
   "source": [
    "# Среднее к-во багов в коммите по дням (если за день коммитов не было, то значение обнуляется)\n",
    "df.set_index('commit_date')['bugs'].resample('1D').mean().fillna(0).plot(figsize=(15, 5));"
   ]
  },
  {
   "cell_type": "code",
   "execution_count": 12,
   "metadata": {
    "id": "joiSR8xn60z0"
   },
   "outputs": [],
   "source": [
    "# Просмотр декомпозиции ряда на тренд, сезонность и остаток\n",
    "def decomp(df):\n",
    "    decomposed = seasonal_decompose(df)\n",
    "    plt.figure(figsize=(10, 10))\n",
    "    plt.subplot(311)\n",
    "    decomposed.trend.plot(ax=plt.gca())\n",
    "    plt.title('Trend')\n",
    "    plt.subplot(312)\n",
    "    decomposed.seasonal.plot(ax=plt.gca())\n",
    "    plt.title('Seasonality')\n",
    "    plt.subplot(313)\n",
    "    decomposed.resid.plot(ax=plt.gca())\n",
    "    plt.title('Residual')\n",
    "    plt.tight_layout()"
   ]
  },
  {
   "cell_type": "code",
   "execution_count": 13,
   "metadata": {
    "id": "VdNVoelK60z4",
    "outputId": "6b959a93-7d0a-4261-a9fb-6217a9e844fe"
   },
   "outputs": [
    {
     "data": {
      "image/png": "[encoded data removed]",
      "text/plain": [
       "<Figure size 720x720 with 3 Axes>"
      ]
     },
     "metadata": {
      "needs_background": "light"
     },
     "output_type": "display_data"
    }
   ],
   "source": [
    "# Усреднение ежедневной статистики\n",
    "decomp(df.set_index('commit_date')['bugs'].resample('1D').mean().fillna(0))"
   ]
  },
  {
   "cell_type": "code",
   "execution_count": 14,
   "metadata": {
    "id": "jHCrYi9B60z6",
    "outputId": "80eb1a8c-b948-4a98-f23c-fba1d8b89ae4"
   },
   "outputs": [
    {
     "data": {
      "image/png": "[encoded data removed]",
      "text/plain": [
       "<Figure size 720x720 with 3 Axes>"
      ]
     },
     "metadata": {
      "needs_background": "light"
     },
     "output_type": "display_data"
    }
   ],
   "source": [
    "# Усреднение статистики за час (для наглядности, выведем на печать первые 10 дней)\n",
    "decomp(df.set_index('commit_date')['bugs'].resample('1H').mean().fillna(0).iloc[:240])"
   ]
  },
  {
   "cell_type": "markdown",
   "metadata": {
    "id": "OlM6pm39kIQy"
   },
   "source": [
    "Декомпозиция временного ряда демонтсрирует явное наличие сезонности - зависимости целевого признака от часа суток и от дня недели. Добавим в датаест соответствующие признаки:"
   ]
  },
  {
   "cell_type": "code",
   "execution_count": 15,
   "metadata": {
    "id": "CyFYgFph60z8",
    "outputId": "65a96ab1-807c-47ed-aa7a-95a24555fed2"
   },
   "outputs": [
    {
     "data": {
      "text/html": [
       "<div>\n",
       "<style scoped>\n",
       "    .dataframe tbody tr th:only-of-type {\n",
       "        vertical-align: middle;\n",
       "    }\n",
       "\n",
       "    .dataframe tbody tr th {\n",
       "        vertical-align: top;\n",
       "    }\n",
       "\n",
       "    .dataframe thead th {\n",
       "        text-align: right;\n",
       "    }\n",
       "</style>\n",
       "<table border=\"1\" class=\"dataframe\">\n",
       "  <thead>\n",
       "    <tr style=\"text-align: right;\">\n",
       "      <th></th>\n",
       "      <th>repository_name</th>\n",
       "      <th>commit_date</th>\n",
       "      <th>commit_author</th>\n",
       "      <th>commit_message</th>\n",
       "      <th>bugs</th>\n",
       "      <th>hour</th>\n",
       "      <th>dayofweek</th>\n",
       "    </tr>\n",
       "  </thead>\n",
       "  <tbody>\n",
       "    <tr>\n",
       "      <th>0</th>\n",
       "      <td>mlm</td>\n",
       "      <td>2020-06-12 14:26:12</td>\n",
       "      <td>Victor</td>\n",
       "      <td>объяснения предсказаний с помощью lime</td>\n",
       "      <td>4</td>\n",
       "      <td>14</td>\n",
       "      <td>4</td>\n",
       "    </tr>\n",
       "    <tr>\n",
       "      <th>1</th>\n",
       "      <td>mlm</td>\n",
       "      <td>2020-06-12 11:53:10</td>\n",
       "      <td>Victor</td>\n",
       "      <td>Поставил lime вместо eli5</td>\n",
       "      <td>3</td>\n",
       "      <td>11</td>\n",
       "      <td>4</td>\n",
       "    </tr>\n",
       "    <tr>\n",
       "      <th>2</th>\n",
       "      <td>mlm</td>\n",
       "      <td>2020-06-11 15:19:03</td>\n",
       "      <td>Victor</td>\n",
       "      <td>Скрипт для создния пакетов обновления</td>\n",
       "      <td>4</td>\n",
       "      <td>15</td>\n",
       "      <td>3</td>\n",
       "    </tr>\n",
       "    <tr>\n",
       "      <th>3</th>\n",
       "      <td>mlm</td>\n",
       "      <td>2020-06-11 10:42:29</td>\n",
       "      <td>Victor</td>\n",
       "      <td>Сортировка весов по убыванию</td>\n",
       "      <td>3</td>\n",
       "      <td>10</td>\n",
       "      <td>3</td>\n",
       "    </tr>\n",
       "    <tr>\n",
       "      <th>4</th>\n",
       "      <td>mlm</td>\n",
       "      <td>2020-06-11 09:25:19</td>\n",
       "      <td>Victor</td>\n",
       "      <td>не надо конвертировать массив до операции по с...</td>\n",
       "      <td>7</td>\n",
       "      <td>9</td>\n",
       "      <td>3</td>\n",
       "    </tr>\n",
       "  </tbody>\n",
       "</table>\n",
       "</div>"
      ],
      "text/plain": [
       "  repository_name         commit_date commit_author  \\\n",
       "0             mlm 2020-06-12 14:26:12        Victor   \n",
       "1             mlm 2020-06-12 11:53:10        Victor   \n",
       "2             mlm 2020-06-11 15:19:03        Victor   \n",
       "3             mlm 2020-06-11 10:42:29        Victor   \n",
       "4             mlm 2020-06-11 09:25:19        Victor   \n",
       "\n",
       "                                      commit_message  bugs  hour  dayofweek  \n",
       "0             объяснения предсказаний с помощью lime     4    14          4  \n",
       "1                          Поставил lime вместо eli5     3    11          4  \n",
       "2              Скрипт для создния пакетов обновления     4    15          3  \n",
       "3                       Сортировка весов по убыванию     3    10          3  \n",
       "4  не надо конвертировать массив до операции по с...     7     9          3  "
      ]
     },
     "execution_count": 15,
     "metadata": {},
     "output_type": "execute_result"
    }
   ],
   "source": [
    "df['hour'] = df['commit_date'].apply(lambda timestamp: timestamp.hour)\n",
    "df['dayofweek'] = df['commit_date'].apply(lambda timestamp: timestamp.dayofweek)\n",
    "df.head()"
   ]
  },
  {
   "cell_type": "code",
   "execution_count": 16,
   "metadata": {
    "id": "1AS8z0C960z-",
    "outputId": "78a8ef47-fdaa-4664-9d6f-f7ecb9816fac"
   },
   "outputs": [
    {
     "data": {
      "image/png": "[encoded data removed]",
      "text/plain": [
       "<Figure size 432x288 with 1 Axes>"
      ]
     },
     "metadata": {
      "needs_background": "light"
     },
     "output_type": "display_data"
    },
    {
     "data": {
      "image/png": "[encoded data removed]",
      "text/plain": [
       "<Figure size 432x288 with 1 Axes>"
      ]
     },
     "metadata": {
      "needs_background": "light"
     },
     "output_type": "display_data"
    }
   ],
   "source": [
    "# Среднее к-во багов на коммит в зависимости от часа суток и дня недели\n",
    "df.groupby('hour')['bugs'].mean().plot(kind='bar', grid=True)\n",
    "plt.show()\n",
    "df.groupby('dayofweek')['bugs'].mean().plot(kind='bar', grid=True);"
   ]
  },
  {
   "cell_type": "markdown",
   "metadata": {
    "id": "ts-pcrmakoGb"
   },
   "source": [
    "Багов очевидно больше ранним утром и в конце недели."
   ]
  },
  {
   "cell_type": "code",
   "execution_count": 17,
   "metadata": {
    "id": "SDRDc8i7600A",
    "outputId": "890e4bfe-002c-45ba-f0a8-61f40d6afd2f"
   },
   "outputs": [
    {
     "data": {
      "text/plain": [
       "Victor     134\n",
       "Mallory     67\n",
       "Wendy       48\n",
       "Dabe        42\n",
       "Trudy        9\n",
       "Eve          9\n",
       "Carol        4\n",
       "Peggy        2\n",
       "Bob          2\n",
       "Alice        2\n",
       "Name: commit_author, dtype: int64"
      ]
     },
     "execution_count": 17,
     "metadata": {},
     "output_type": "execute_result"
    }
   ],
   "source": [
    "# К-во коммитов у каждого автора\n",
    "df['commit_author'].value_counts()"
   ]
  },
  {
   "cell_type": "markdown",
   "metadata": {
    "id": "W1SbWBkrk45z"
   },
   "source": [
    "Имя автора со слишком маленьким числом коммитов является плохим признаком для обучения. Объеденим авторов, не вошедших в топ-4 в одну категорию ('other'):"
   ]
  },
  {
   "cell_type": "code",
   "execution_count": 18,
   "metadata": {
    "id": "gLrn_l3D600C",
    "outputId": "abf513c1-b7bd-48b6-c33f-a5c967bb9e01"
   },
   "outputs": [
    {
     "data": {
      "text/plain": [
       "Victor     134\n",
       "Mallory     67\n",
       "Wendy       48\n",
       "Dabe        42\n",
       "other       28\n",
       "Name: commit_author, dtype: int64"
      ]
     },
     "execution_count": 18,
     "metadata": {},
     "output_type": "execute_result"
    }
   ],
   "source": [
    "top_authors = df['commit_author'].value_counts().head(4).index\n",
    "\n",
    "df['commit_author'] = df['commit_author'].apply(\n",
    "    lambda name: name if name in top_authors else 'other')\n",
    "df['commit_author'].value_counts()"
   ]
  },
  {
   "cell_type": "code",
   "execution_count": 19,
   "metadata": {
    "id": "cXNUIZkN600E",
    "outputId": "72b81289-9e95-4561-bd92-efd88f951c26"
   },
   "outputs": [
    {
     "data": {
      "image/png": "[encoded data removed]",
      "text/plain": [
       "<Figure size 504x720 with 1 Axes>"
      ]
     },
     "metadata": {
      "needs_background": "light"
     },
     "output_type": "display_data"
    },
    {
     "data": {
      "image/png": "[encoded data removed]",
      "text/plain": [
       "<Figure size 432x288 with 1 Axes>"
      ]
     },
     "metadata": {
      "needs_background": "light"
     },
     "output_type": "display_data"
    },
    {
     "name": "stdout",
     "output_type": "stream",
     "text": [
      "\n"
     ]
    }
   ],
   "source": [
    "# Взглянем еще раз на распределения с учетом объекдинения авторов\n",
    "ax = df.plot(kind='hist', y='bugs', bins=12,\n",
    "         linewidth=3, alpha=0.7, label='Total')\n",
    "for value in df['commit_author'].unique():\n",
    "    bins = df[df['commit_author'] == value]['bugs'].max() - \\\n",
    "           df[df['commit_author'] == value]['bugs'].min()\n",
    "    df[df['commit_author'] == value].plot(kind='hist', y='bugs', \n",
    "                                 histtype='step', bins=bins,\n",
    "                                 linewidth=3, alpha=0.7,\n",
    "                                 label=value, figsize=(7,10), \n",
    "                                 grid=True, ax=ax)\n",
    "plt.show()\n",
    "sns.boxplot(y='commit_author', x=\"bugs\", data=pd.concat([df, df_total]), \n",
    "            orient=\"h\")\n",
    "plt.show()\n",
    "print()"
   ]
  },
  {
   "cell_type": "code",
   "execution_count": 20,
   "metadata": {
    "id": "fdqi--8R600G",
    "outputId": "7e6b8564-3b8a-43e1-cdb8-13ba181c9ae6"
   },
   "outputs": [
    {
     "data": {
      "text/html": [
       "<div>\n",
       "<style scoped>\n",
       "    .dataframe tbody tr th:only-of-type {\n",
       "        vertical-align: middle;\n",
       "    }\n",
       "\n",
       "    .dataframe tbody tr th {\n",
       "        vertical-align: top;\n",
       "    }\n",
       "\n",
       "    .dataframe thead th {\n",
       "        text-align: right;\n",
       "    }\n",
       "</style>\n",
       "<table border=\"1\" class=\"dataframe\">\n",
       "  <thead>\n",
       "    <tr style=\"text-align: right;\">\n",
       "      <th></th>\n",
       "      <th>repository_name</th>\n",
       "      <th>commit_author</th>\n",
       "      <th>commit_message</th>\n",
       "      <th>bugs</th>\n",
       "      <th>hour</th>\n",
       "      <th>dayofweek</th>\n",
       "    </tr>\n",
       "  </thead>\n",
       "  <tbody>\n",
       "    <tr>\n",
       "      <th>0</th>\n",
       "      <td>mlm</td>\n",
       "      <td>Victor</td>\n",
       "      <td>объяснения предсказаний с помощью lime</td>\n",
       "      <td>4</td>\n",
       "      <td>14</td>\n",
       "      <td>4</td>\n",
       "    </tr>\n",
       "    <tr>\n",
       "      <th>1</th>\n",
       "      <td>mlm</td>\n",
       "      <td>Victor</td>\n",
       "      <td>Поставил lime вместо eli5</td>\n",
       "      <td>3</td>\n",
       "      <td>11</td>\n",
       "      <td>4</td>\n",
       "    </tr>\n",
       "    <tr>\n",
       "      <th>2</th>\n",
       "      <td>mlm</td>\n",
       "      <td>Victor</td>\n",
       "      <td>Скрипт для создния пакетов обновления</td>\n",
       "      <td>4</td>\n",
       "      <td>15</td>\n",
       "      <td>3</td>\n",
       "    </tr>\n",
       "    <tr>\n",
       "      <th>3</th>\n",
       "      <td>mlm</td>\n",
       "      <td>Victor</td>\n",
       "      <td>Сортировка весов по убыванию</td>\n",
       "      <td>3</td>\n",
       "      <td>10</td>\n",
       "      <td>3</td>\n",
       "    </tr>\n",
       "    <tr>\n",
       "      <th>4</th>\n",
       "      <td>mlm</td>\n",
       "      <td>Victor</td>\n",
       "      <td>не надо конвертировать массив до операции по с...</td>\n",
       "      <td>7</td>\n",
       "      <td>9</td>\n",
       "      <td>3</td>\n",
       "    </tr>\n",
       "  </tbody>\n",
       "</table>\n",
       "</div>"
      ],
      "text/plain": [
       "  repository_name commit_author  \\\n",
       "0             mlm        Victor   \n",
       "1             mlm        Victor   \n",
       "2             mlm        Victor   \n",
       "3             mlm        Victor   \n",
       "4             mlm        Victor   \n",
       "\n",
       "                                      commit_message  bugs  hour  dayofweek  \n",
       "0             объяснения предсказаний с помощью lime     4    14          4  \n",
       "1                          Поставил lime вместо eli5     3    11          4  \n",
       "2              Скрипт для создния пакетов обновления     4    15          3  \n",
       "3                       Сортировка весов по убыванию     3    10          3  \n",
       "4  не надо конвертировать массив до операции по с...     7     9          3  "
      ]
     },
     "execution_count": 20,
     "metadata": {},
     "output_type": "execute_result"
    }
   ],
   "source": [
    "# Столбец с датой больше не нужен\n",
    "df.drop(columns='commit_date', inplace=True)\n",
    "df.head()"
   ]
  },
  {
   "cell_type": "markdown",
   "metadata": {
    "id": "ihnofoJAmYZF"
   },
   "source": [
    "**Вывод:** Проведен анализ данных, выделены обучающие признаки: название репозитория, автор коммита, сообщение, час и день недели. Текстовый признак сохранен для классификатора CatBoost.\n"
   ]
  },
  {
   "cell_type": "markdown",
   "metadata": {
    "id": "m5YvvhSHn731"
   },
   "source": [
    "### 2. Обучение модели  \n",
    "#### 2.1. Выбор модели и обучающих признаков\n",
    "Целевой признак (предсказываемая величина) представляет собой целое число в диапазоне от 0 до 12. Таким образом, поставленную задачу можно рассматривать как задачу мультиклассовой классификации с 12-ю классами. Но, учитывая, что целевой признак также является количественной величиной (число багов), для оценки качества модели лучше подойдет метрика регрессии, наглядно демонстрирующая отклонение предсказания от таргета в еденицах измерения целевого признака. Поэтому, в качестве целевой метрики принимаем среднюю абсолютную ошибку МАЕ.  \n",
    "Также, учитывая количественный характер целевого признака, для предсказания можно применить модели регрессии, с округлением их предсказания до ближайшего целого.  \n",
    "Таким образом, для предсказания будут опробованы следующие модели:  \n",
    " - линейная регрессия библиотеки Sklearn **LinearRegression**;  \n",
    " - логистическая регрессия библиотеки Sklearn **LogisticRegression**;  \n",
    " - градиентный бустинг CatBoost, модель регрессии **CatBoostRegressor**;\n",
    " - классификатор CatBoost **CatBoostClassifier**.  \n",
    "\n",
    "Выбор библиотеки градиентного бустинга связан с возможностью автоматической обработки текстовых признаков (но только для модели классификации), а также хорошим качеством предсказания с дефолтными гиперпараметрами. "
   ]
  },
  {
   "cell_type": "code",
   "execution_count": 21,
   "metadata": {
    "id": "PYeDIX-A600L",
    "outputId": "3ccb1acb-1234-4d5d-e96a-b04609e5a515"
   },
   "outputs": [
    {
     "name": "stdout",
     "output_type": "stream",
     "text": [
      "(255, 5)\n",
      "(64, 5)\n"
     ]
    }
   ],
   "source": [
    "# Разделяем целевой и обучающие признаки и отделяем тестовую выборку\n",
    "X = df.drop(columns='bugs')\n",
    "y = df['bugs']\n",
    "\n",
    "X_train, X_test, y_train, y_test = train_test_split(X, y, test_size=0.2, \n",
    "                                                    random_state=42)\n",
    "print(X_train.shape)\n",
    "print(X_test.shape)"
   ]
  },
  {
   "cell_type": "code",
   "execution_count": 22,
   "metadata": {},
   "outputs": [
    {
     "data": {
      "text/plain": [
       "array([0, 1, 2, 3, 4, 5, 6, 7, 8])"
      ]
     },
     "execution_count": 22,
     "metadata": {},
     "output_type": "execute_result"
    }
   ],
   "source": [
    "np.sort(y_test.unique())  # Значения целевого признака в тестовой выборке"
   ]
  },
  {
   "cell_type": "markdown",
   "metadata": {},
   "source": [
    "В тестовую выборку не вошли объекты со значением целевого признака более 8. Таких объектов в исходном датасете недостаточно для нормального обучения модели - считаем их выбросами и удаляем из обучающей выборки:"
   ]
  },
  {
   "cell_type": "code",
   "execution_count": 23,
   "metadata": {},
   "outputs": [
    {
     "name": "stdout",
     "output_type": "stream",
     "text": [
      "(249, 5)\n",
      "(249,)\n"
     ]
    }
   ],
   "source": [
    "X_train.drop(index=y_train[y_train > 8].index, inplace=True)\n",
    "y_train = y_train[y_train <= 8]\n",
    "print(X_train.shape)\n",
    "print(y_train.shape)"
   ]
  },
  {
   "cell_type": "markdown",
   "metadata": {},
   "source": [
    "Размер обучающей выборки уменьшился на 6 объектов - не так много."
   ]
  },
  {
   "cell_type": "markdown",
   "metadata": {
    "id": "KNcfaMB6xiv-"
   },
   "source": [
    "Учитывая малый объем выборки, для тюнинга гиперпараметров целесообразно пользоваться кросс-валидацией. Поскольку используется нестандартная целевая метрика, воспользоваться библиотечными методами для кросс-валидации не удастся. Напишем свою функцию."
   ]
  },
  {
   "cell_type": "code",
   "execution_count": 24,
   "metadata": {
    "id": "RjB0LwQ9meBU"
   },
   "outputs": [],
   "source": [
    "# Вспомогательные функции\n",
    "\n",
    "'''Разбиение обучающей выборки на подвыборки для кросс-валидации, \n",
    "n_splits - к-во фолдов.\n",
    "\n",
    "Схема процесса:\n",
    "______________________________\n",
    "|f(n)|f(n-1)|...|f(2)   |f(1)|  -  фолды\n",
    "| 1/2| 1/2  |   |1/(n-1)|1/n |  -  test_size (доля фолда от остатка)\n",
    "|<--r(n-2)->|           |    |  -  последний остаток делится пополам на 2 последних фолда\n",
    "|<---------r(1)-------->|    |  -  первый остаток, после отделения первого фолда\n",
    "|<------------r(0)---------->|  -  изначально вся выборка в остатке\n",
    "‾‾‾‾‾‾‾‾‾‾‾‾‾‾‾‾‾‾‾‾‾‾‾‾‾‾‾‾‾‾\n",
    "Функция возвращает два словаря с номерами фолдов в качестве ключей и \n",
    "соответствующими подвыборками обучающих и целевых признаков в значениях\n",
    "'''\n",
    "def my_cv(X, y, n_splits, random_state):\n",
    "    X_fold = {}  # Множество подвыборок обучающих признаков\n",
    "    y_fold = {}  # Множество подвыборок целевых признаков\n",
    "    X_rest = {}  # Остатки, не вошедшие (пока что) в фолды\n",
    "    y_rest = {}  # --//--\n",
    "    X_rest[0] = X  # В начале у нас нет фолдов, значит всё множество в остатке\n",
    "    y_rest[0] = y\n",
    "    for i in range(n_splits-1):\n",
    "        X_rest[i+1], X_fold[i+1], y_rest[i+1], y_fold[i+1] = train_test_split(\n",
    "            X_rest[i], y_rest[i], test_size=1/(n_splits-i), random_state=random_state)\n",
    "\n",
    "    X_fold[n_splits] = X_rest[n_splits-1]\n",
    "    y_fold[n_splits] = y_rest[n_splits-1]\n",
    "\n",
    "    return X_fold, y_fold\n",
    "\n",
    "\n",
    "# Кросс валидация модели логистической регрессии\n",
    "def lr_cv(X, y, n_splits):\n",
    "    X_fold, y_fold = my_cv(X, y, n_splits, random_state=43)\n",
    "    lr_mae = []  # Список результирующих метрик \n",
    "\n",
    "    for i in range(1, n_splits+1):\n",
    "        test_index = X_fold[i].index\n",
    "        train_index = X.drop(index=test_index).index\n",
    "        lr_model = LogisticRegression().fit(X.loc[train_index], y.loc[train_index])\n",
    "        lr_mae.append(mean_absolute_error(y.loc[test_index], \n",
    "                                          lr_model.predict(X.loc[test_index])))\n",
    "    \n",
    "    return np.array(lr_mae)\n",
    "\n",
    "\n",
    "# Кросс валидация модели линейной регрессии\n",
    "def linreg_cv(X, y, n_splits):\n",
    "    X_fold, y_fold = my_cv(X, y, n_splits, random_state=43)\n",
    "    linreg_mae = []  # Список результирующих метрик\n",
    "\n",
    "    for i in range(1, n_splits+1):\n",
    "        test_index = X_fold[i].index\n",
    "        train_index = X.drop(index=test_index).index\n",
    "        linreg_model = LinearRegression().fit(X.loc[train_index], y.loc[train_index])\n",
    "        linreg_mae.append(mean_absolute_error(\n",
    "            y.loc[test_index], \n",
    "            linreg_model.predict(X.loc[test_index]).round())\n",
    "        )\n",
    "    \n",
    "    return np.array(linreg_mae)\n",
    "\n",
    "\n",
    "# Кросс валидация для модели CatBoostRegressor\n",
    "def catreg_cv(X, y, n_splits, cat_features, random_state=43, \n",
    "              catboost_params={}):\n",
    "    X_fold, y_fold = my_cv(X, y, n_splits, random_state)\n",
    "    cat_mae = []  # Список результирующих метрик\n",
    "\n",
    "    for i in range(1, n_splits+1):\n",
    "        test_index = X_fold[i].index\n",
    "        train_index = X.drop(index=test_index).index\n",
    "\n",
    "        model = CatBoostRegressor(\n",
    "            loss_function='MAE', verbose=False\n",
    "            ).fit(X.loc[train_index], y.loc[train_index], cat_features=cat_features)\n",
    "        split_mae = mean_absolute_error(\n",
    "            y.loc[test_index],\n",
    "            model.predict(X.loc[test_index]).round()\n",
    "            )\n",
    "        cat_mae.append(split_mae)\n",
    "\n",
    "    return np.array(cat_mae)\n",
    "\n",
    "\n",
    "# Кросс валидация для модели CatBoostClassifier\n",
    "def cat_cv(X, y, n_splits, cat_features, text_features, random_state=43, \n",
    "           catboost_params={}):\n",
    "    X_fold, y_fold = my_cv(X, y, n_splits, random_state)\n",
    "\n",
    "    catboost_default_params = {\n",
    "      'iterations': 1000,\n",
    "      'learning_rate': 0.03,\n",
    "      'eval_metric': 'Accuracy',\n",
    "      'task_type': 'GPU'\n",
    "    }\n",
    "    catboost_default_params.update(catboost_params)\n",
    "\n",
    "    cat_mae = []  # Список результирующих метрик\n",
    "\n",
    "    for i in range(1, n_splits+1):\n",
    "        test_index = X_fold[i].index\n",
    "        train_index = X.drop(index=test_index).index\n",
    "\n",
    "        learn_pool = Pool(\n",
    "            X.loc[train_index], \n",
    "            y.loc[train_index], \n",
    "            cat_features=cat_features,\n",
    "            text_features=text_features,\n",
    "            feature_names=list(X)\n",
    "        )\n",
    "        test_pool = Pool(\n",
    "            X.loc[test_index], \n",
    "            cat_features=cat_features,\n",
    "            text_features=text_features,\n",
    "            feature_names=list(X)\n",
    "        )\n",
    "\n",
    "        model = CatBoostClassifier(**catboost_default_params)\n",
    "        model.fit(learn_pool, verbose=False)\n",
    "\n",
    "        split_mae =  mean_absolute_error(y.loc[test_index], \n",
    "                                         model.predict(test_pool))\n",
    "        cat_mae.append(split_mae)\n",
    "\n",
    "    return np.array(cat_mae)\n",
    "\n",
    "\n",
    "# Представление результатов кросс-валидации в формате \"среднее ± ст.отклонение\"\n",
    "def cv_result(scores):\n",
    "    return '{:.3f} ± {:.3f}'.format(scores.mean(), scores.std()) "
   ]
  },
  {
   "cell_type": "code",
   "execution_count": 25,
   "metadata": {
    "id": "udEk_bjnBW7X"
   },
   "outputs": [],
   "source": [
    "# Подготовка обучающих признаков\n",
    "\n",
    "text_features = ['commit_message']  # Столбец текстовых признаков\n",
    "\n",
    "# Порядковое кодирование признаков 'repository_name' и 'commit_author'\n",
    "X_ordinal = X.copy()  # Результат запишем в отдельный датасет\n",
    "for column in 'repository_name', 'commit_author':\n",
    "    X_ordinal[column] = \\\n",
    "    OrdinalEncoder().fit_transform(pd.DataFrame(X_ordinal[column]))\n",
    "\n",
    "# Обучающая и тестовая подвыборки без текстовых признаков\n",
    "X_train_no_text = X_train.drop(text_features, axis=1)\n",
    "X_test_no_text = X_test.drop(text_features, axis=1)\n",
    "\n",
    "# Обучающая и тестовая подвыборки с порядковым кодирвоанием признаков \n",
    "# 'repository_name' и 'commit_author', с и без текстовых признаков\n",
    "X_ordinal_train = X_ordinal.loc[y_train.index]\n",
    "X_ordinal_test = X_ordinal.loc[y_test.index]\n",
    "X_ordinal_train_no_text = X_ordinal_train.drop(text_features, axis=1)\n",
    "X_ordinal_test_no_text = X_ordinal_test.drop(text_features, axis=1)"
   ]
  },
  {
   "cell_type": "markdown",
   "metadata": {
    "id": "bQD8d1yyicAt"
   },
   "source": [
    "**Подбор числа фолдов для кросс-валидации.** Для фиксированного значения n_splits проведем кросс валидации различных моделей (для ускорения процесса исключим классификатор CatBoost - он  работает существенно дольше остальных моделей) и измерим среднее значение стандартных отклонений метрик. Таким образом, выберем к-во фолдов, дающее наименьший разброс в значениях метрики при кросс-валидации:"
   ]
  },
  {
   "cell_type": "code",
   "execution_count": 26,
   "metadata": {
    "id": "SAp2-IV9Z2sQ",
    "outputId": "7f6757de-1758-4815-9cf7-aee2fa28b855"
   },
   "outputs": [
    {
     "name": "stdout",
     "output_type": "stream",
     "text": [
      "n_splits = 3\n",
      "CatBoost categorical features: ['repository_name', 'commit_author']\n",
      "\n",
      "CatBoost regression MAE: 1.185 ± 0.080\n",
      "LogisticRegression MAE with one-hot encoding:  1.249 ± 0.071\n",
      "LinearRegression MAE with one-hot encoding:  1.185 ± 0.063\n",
      "LogisticRegression MAE with one-hot and ordinal encoding:  1.325 ± 0.110\n",
      "LinearRegression MAE with one-hot and ordinal encoding:  1.161 ± 0.015\n",
      "\n",
      "\n",
      "CatBoost categorical features: ['repository_name', 'commit_author', 'hour']\n",
      "\n",
      "CatBoost regression MAE: 1.261 ± 0.063\n",
      "LogisticRegression MAE with one-hot encoding:  1.245 ± 0.066\n",
      "LinearRegression MAE with one-hot encoding:  1.221 ± 0.059\n",
      "LogisticRegression MAE with one-hot and ordinal encoding:  1.349 ± 0.061\n",
      "LinearRegression MAE with one-hot and ordinal encoding:  1.265 ± 0.098\n",
      "\n",
      "\n",
      "CatBoost categorical features: ['repository_name', 'commit_author', 'dayofweek']\n",
      "\n",
      "CatBoost regression MAE: 1.173 ± 0.025\n",
      "LogisticRegression MAE with one-hot encoding:  1.221 ± 0.050\n",
      "LinearRegression MAE with one-hot encoding:  1.149 ± 0.015\n",
      "LogisticRegression MAE with one-hot and ordinal encoding:  1.321 ± 0.057\n",
      "LinearRegression MAE with one-hot and ordinal encoding:  1.161 ± 0.006\n",
      "\n",
      "\n",
      "CatBoost categorical features: ['repository_name', 'commit_author', 'hour', 'dayofweek']\n",
      "\n",
      "CatBoost regression MAE: 1.181 ± 0.020\n",
      "LogisticRegression MAE with one-hot encoding:  1.153 ± 0.105\n",
      "LinearRegression MAE with one-hot encoding:  1.221 ± 0.057\n",
      "LogisticRegression MAE with one-hot and ordinal encoding:  1.309 ± 0.082\n",
      "LinearRegression MAE with one-hot and ordinal encoding:  1.309 ± 0.058\n",
      "\n",
      "\n",
      "n_splits = 4\n",
      "CatBoost categorical features: ['repository_name', 'commit_author']\n",
      "\n",
      "CatBoost regression MAE: 1.125 ± 0.171\n",
      "LogisticRegression MAE with one-hot encoding:  1.250 ± 0.132\n",
      "LinearRegression MAE with one-hot encoding:  1.160 ± 0.075\n",
      "LogisticRegression MAE with one-hot and ordinal encoding:  1.306 ± 0.124\n",
      "LinearRegression MAE with one-hot and ordinal encoding:  1.205 ± 0.151\n",
      "\n",
      "\n",
      "CatBoost categorical features: ['repository_name', 'commit_author', 'hour']\n",
      "\n",
      "CatBoost regression MAE: 1.169 ± 0.170\n",
      "LogisticRegression MAE with one-hot encoding:  1.193 ± 0.151\n",
      "LinearRegression MAE with one-hot encoding:  1.169 ± 0.084\n",
      "LogisticRegression MAE with one-hot and ordinal encoding:  1.354 ± 0.155\n",
      "LinearRegression MAE with one-hot and ordinal encoding:  1.265 ± 0.179\n",
      "\n",
      "\n",
      "CatBoost categorical features: ['repository_name', 'commit_author', 'dayofweek']\n",
      "\n",
      "CatBoost regression MAE: 1.093 ± 0.166\n",
      "LogisticRegression MAE with one-hot encoding:  1.173 ± 0.151\n",
      "LinearRegression MAE with one-hot encoding:  1.120 ± 0.059\n",
      "LogisticRegression MAE with one-hot and ordinal encoding:  1.318 ± 0.132\n",
      "LinearRegression MAE with one-hot and ordinal encoding:  1.185 ± 0.168\n",
      "\n",
      "\n",
      "CatBoost categorical features: ['repository_name', 'commit_author', 'hour', 'dayofweek']\n",
      "\n",
      "CatBoost regression MAE: 1.141 ± 0.166\n",
      "LogisticRegression MAE with one-hot encoding:  1.181 ± 0.169\n",
      "LinearRegression MAE with one-hot encoding:  1.161 ± 0.132\n",
      "LogisticRegression MAE with one-hot and ordinal encoding:  1.302 ± 0.156\n",
      "LinearRegression MAE with one-hot and ordinal encoding:  1.277 ± 0.200\n",
      "\n",
      "\n",
      "n_splits = 5\n",
      "CatBoost categorical features: ['repository_name', 'commit_author']\n",
      "\n",
      "CatBoost regression MAE: 1.100 ± 0.064\n",
      "LogisticRegression MAE with one-hot encoding:  1.184 ± 0.135\n",
      "LinearRegression MAE with one-hot encoding:  1.212 ± 0.089\n",
      "LogisticRegression MAE with one-hot and ordinal encoding:  1.281 ± 0.099\n",
      "LinearRegression MAE with one-hot and ordinal encoding:  1.196 ± 0.051\n",
      "\n",
      "\n",
      "CatBoost categorical features: ['repository_name', 'commit_author', 'hour']\n",
      "\n",
      "CatBoost regression MAE: 1.080 ± 0.044\n",
      "LogisticRegression MAE with one-hot encoding:  1.164 ± 0.096\n",
      "LinearRegression MAE with one-hot encoding:  1.220 ± 0.085\n",
      "LogisticRegression MAE with one-hot and ordinal encoding:  1.301 ± 0.093\n",
      "LinearRegression MAE with one-hot and ordinal encoding:  1.301 ± 0.110\n",
      "\n",
      "\n",
      "CatBoost categorical features: ['repository_name', 'commit_author', 'dayofweek']\n",
      "\n",
      "CatBoost regression MAE: 1.132 ± 0.112\n",
      "LogisticRegression MAE with one-hot encoding:  1.152 ± 0.134\n",
      "LinearRegression MAE with one-hot encoding:  1.120 ± 0.066\n",
      "LogisticRegression MAE with one-hot and ordinal encoding:  1.237 ± 0.063\n",
      "LinearRegression MAE with one-hot and ordinal encoding:  1.152 ± 0.079\n",
      "\n",
      "\n",
      "CatBoost categorical features: ['repository_name', 'commit_author', 'hour', 'dayofweek']\n",
      "\n",
      "CatBoost regression MAE: 1.096 ± 0.032\n",
      "LogisticRegression MAE with one-hot encoding:  1.212 ± 0.096\n",
      "LinearRegression MAE with one-hot encoding:  1.168 ± 0.070\n",
      "LogisticRegression MAE with one-hot and ordinal encoding:  1.278 ± 0.075\n",
      "LinearRegression MAE with one-hot and ordinal encoding:  1.293 ± 0.107\n",
      "\n",
      "\n",
      "n_splits = 6\n",
      "CatBoost categorical features: ['repository_name', 'commit_author']\n",
      "\n",
      "CatBoost regression MAE: 1.109 ± 0.090\n",
      "LogisticRegression MAE with one-hot encoding:  1.237 ± 0.086\n",
      "LinearRegression MAE with one-hot encoding:  1.176 ± 0.069\n",
      "LogisticRegression MAE with one-hot and ordinal encoding:  1.306 ± 0.054\n",
      "LinearRegression MAE with one-hot and ordinal encoding:  1.193 ± 0.112\n",
      "\n",
      "\n",
      "CatBoost categorical features: ['repository_name', 'commit_author', 'hour']\n",
      "\n",
      "CatBoost regression MAE: 1.149 ± 0.033\n",
      "LogisticRegression MAE with one-hot encoding:  1.133 ± 0.199\n",
      "LinearRegression MAE with one-hot encoding:  1.193 ± 0.081\n",
      "LogisticRegression MAE with one-hot and ordinal encoding:  1.318 ± 0.120\n",
      "LinearRegression MAE with one-hot and ordinal encoding:  1.265 ± 0.114\n",
      "\n",
      "\n",
      "CatBoost categorical features: ['repository_name', 'commit_author', 'dayofweek']\n",
      "\n",
      "CatBoost regression MAE: 1.109 ± 0.075\n",
      "LogisticRegression MAE with one-hot encoding:  1.170 ± 0.116\n",
      "LinearRegression MAE with one-hot encoding:  1.116 ± 0.059\n",
      "LogisticRegression MAE with one-hot and ordinal encoding:  1.306 ± 0.078\n",
      "LinearRegression MAE with one-hot and ordinal encoding:  1.170 ± 0.147\n",
      "\n",
      "\n",
      "CatBoost categorical features: ['repository_name', 'commit_author', 'hour', 'dayofweek']\n",
      "\n",
      "CatBoost regression MAE: 1.089 ± 0.048\n",
      "LogisticRegression MAE with one-hot encoding:  1.142 ± 0.157\n",
      "LinearRegression MAE with one-hot encoding:  1.164 ± 0.091\n",
      "LogisticRegression MAE with one-hot and ordinal encoding:  1.266 ± 0.168\n",
      "LinearRegression MAE with one-hot and ordinal encoding:  1.273 ± 0.127\n",
      "\n",
      "\n",
      "n_splits = 7\n",
      "CatBoost categorical features: ['repository_name', 'commit_author']\n",
      "\n",
      "CatBoost regression MAE: 1.126 ± 0.234\n",
      "LogisticRegression MAE with one-hot encoding:  1.298 ± 0.113\n",
      "LinearRegression MAE with one-hot encoding:  1.166 ± 0.237\n",
      "LogisticRegression MAE with one-hot and ordinal encoding:  1.315 ± 0.219\n",
      "LinearRegression MAE with one-hot and ordinal encoding:  1.193 ± 0.211\n",
      "\n",
      "\n",
      "CatBoost categorical features: ['repository_name', 'commit_author', 'hour']\n",
      "\n",
      "CatBoost regression MAE: 1.150 ± 0.173\n",
      "LogisticRegression MAE with one-hot encoding:  1.161 ± 0.185\n",
      "LinearRegression MAE with one-hot encoding:  1.210 ± 0.185\n",
      "LogisticRegression MAE with one-hot and ordinal encoding:  1.341 ± 0.224\n",
      "LinearRegression MAE with one-hot and ordinal encoding:  1.301 ± 0.276\n",
      "\n",
      "\n",
      "CatBoost categorical features: ['repository_name', 'commit_author', 'dayofweek']\n",
      "\n",
      "CatBoost regression MAE: 1.113 ± 0.187\n",
      "LogisticRegression MAE with one-hot encoding:  1.206 ± 0.253\n",
      "LinearRegression MAE with one-hot encoding:  1.134 ± 0.234\n",
      "LogisticRegression MAE with one-hot and ordinal encoding:  1.270 ± 0.217\n",
      "LinearRegression MAE with one-hot and ordinal encoding:  1.168 ± 0.215\n",
      "\n",
      "\n",
      "CatBoost categorical features: ['repository_name', 'commit_author', 'hour', 'dayofweek']\n",
      "\n",
      "CatBoost regression MAE: 1.122 ± 0.194\n",
      "LogisticRegression MAE with one-hot encoding:  1.168 ± 0.200\n",
      "LinearRegression MAE with one-hot encoding:  1.206 ± 0.274\n",
      "LogisticRegression MAE with one-hot and ordinal encoding:  1.254 ± 0.213\n",
      "LinearRegression MAE with one-hot and ordinal encoding:  1.305 ± 0.257\n",
      "\n",
      "\n",
      "n_splits = 8\n",
      "CatBoost categorical features: ['repository_name', 'commit_author']\n",
      "\n",
      "CatBoost regression MAE: 1.188 ± 0.214\n",
      "LogisticRegression MAE with one-hot encoding:  1.302 ± 0.168\n",
      "LinearRegression MAE with one-hot encoding:  1.216 ± 0.148\n",
      "LogisticRegression MAE with one-hot and ordinal encoding:  1.301 ± 0.175\n",
      "LinearRegression MAE with one-hot and ordinal encoding:  1.184 ± 0.189\n",
      "\n",
      "\n",
      "CatBoost categorical features: ['repository_name', 'commit_author', 'hour']\n",
      "\n"
     ]
    },
    {
     "name": "stdout",
     "output_type": "stream",
     "text": [
      "CatBoost regression MAE: 1.156 ± 0.181\n",
      "LogisticRegression MAE with one-hot encoding:  1.213 ± 0.173\n",
      "LinearRegression MAE with one-hot encoding:  1.213 ± 0.146\n",
      "LogisticRegression MAE with one-hot and ordinal encoding:  1.321 ± 0.174\n",
      "LinearRegression MAE with one-hot and ordinal encoding:  1.280 ± 0.195\n",
      "\n",
      "\n",
      "CatBoost categorical features: ['repository_name', 'commit_author', 'dayofweek']\n",
      "\n",
      "CatBoost regression MAE: 1.156 ± 0.170\n",
      "LogisticRegression MAE with one-hot encoding:  1.265 ± 0.148\n",
      "LinearRegression MAE with one-hot encoding:  1.160 ± 0.185\n",
      "LogisticRegression MAE with one-hot and ordinal encoding:  1.289 ± 0.175\n",
      "LinearRegression MAE with one-hot and ordinal encoding:  1.204 ± 0.237\n",
      "\n",
      "\n",
      "CatBoost categorical features: ['repository_name', 'commit_author', 'hour', 'dayofweek']\n",
      "\n",
      "CatBoost regression MAE: 1.092 ± 0.143\n",
      "LogisticRegression MAE with one-hot encoding:  1.233 ± 0.176\n",
      "LinearRegression MAE with one-hot encoding:  1.188 ± 0.154\n",
      "LogisticRegression MAE with one-hot and ordinal encoding:  1.228 ± 0.129\n",
      "LinearRegression MAE with one-hot and ordinal encoding:  1.300 ± 0.244\n",
      "\n",
      "\n",
      "n_splits = 9\n",
      "CatBoost categorical features: ['repository_name', 'commit_author']\n",
      "\n",
      "CatBoost regression MAE: 1.144 ± 0.192\n",
      "LogisticRegression MAE with one-hot encoding:  1.224 ± 0.242\n",
      "LinearRegression MAE with one-hot encoding:  1.197 ± 0.172\n",
      "LogisticRegression MAE with one-hot and ordinal encoding:  1.284 ± 0.289\n",
      "LinearRegression MAE with one-hot and ordinal encoding:  1.207 ± 0.253\n",
      "\n",
      "\n",
      "CatBoost categorical features: ['repository_name', 'commit_author', 'hour']\n",
      "\n",
      "CatBoost regression MAE: 1.184 ± 0.190\n",
      "LogisticRegression MAE with one-hot encoding:  1.148 ± 0.204\n",
      "LinearRegression MAE with one-hot encoding:  1.204 ± 0.151\n",
      "LogisticRegression MAE with one-hot and ordinal encoding:  1.267 ± 0.301\n",
      "LinearRegression MAE with one-hot and ordinal encoding:  1.256 ± 0.248\n",
      "\n",
      "\n",
      "CatBoost categorical features: ['repository_name', 'commit_author', 'dayofweek']\n",
      "\n",
      "CatBoost regression MAE: 1.116 ± 0.198\n",
      "LogisticRegression MAE with one-hot encoding:  1.205 ± 0.299\n",
      "LinearRegression MAE with one-hot encoding:  1.144 ± 0.186\n",
      "LogisticRegression MAE with one-hot and ordinal encoding:  1.252 ± 0.312\n",
      "LinearRegression MAE with one-hot and ordinal encoding:  1.220 ± 0.259\n",
      "\n",
      "\n",
      "CatBoost categorical features: ['repository_name', 'commit_author', 'hour', 'dayofweek']\n",
      "\n",
      "CatBoost regression MAE: 1.164 ± 0.204\n",
      "LogisticRegression MAE with one-hot encoding:  1.212 ± 0.259\n",
      "LinearRegression MAE with one-hot encoding:  1.157 ± 0.161\n",
      "LogisticRegression MAE with one-hot and ordinal encoding:  1.185 ± 0.332\n",
      "LinearRegression MAE with one-hot and ordinal encoding:  1.268 ± 0.280\n",
      "\n",
      "\n",
      "n_splits = 10\n",
      "CatBoost categorical features: ['repository_name', 'commit_author']\n",
      "\n",
      "CatBoost regression MAE: 1.204 ± 0.097\n",
      "LogisticRegression MAE with one-hot encoding:  1.259 ± 0.220\n",
      "LinearRegression MAE with one-hot encoding:  1.148 ± 0.112\n",
      "LogisticRegression MAE with one-hot and ordinal encoding:  1.283 ± 0.228\n",
      "LinearRegression MAE with one-hot and ordinal encoding:  1.179 ± 0.171\n",
      "\n",
      "\n",
      "CatBoost categorical features: ['repository_name', 'commit_author', 'hour']\n",
      "\n",
      "CatBoost regression MAE: 1.148 ± 0.135\n",
      "LogisticRegression MAE with one-hot encoding:  1.164 ± 0.130\n",
      "LinearRegression MAE with one-hot encoding:  1.159 ± 0.151\n",
      "LogisticRegression MAE with one-hot and ordinal encoding:  1.284 ± 0.156\n",
      "LinearRegression MAE with one-hot and ordinal encoding:  1.259 ± 0.200\n",
      "\n",
      "\n",
      "CatBoost categorical features: ['repository_name', 'commit_author', 'dayofweek']\n",
      "\n",
      "CatBoost regression MAE: 1.108 ± 0.179\n",
      "LogisticRegression MAE with one-hot encoding:  1.203 ± 0.206\n",
      "LinearRegression MAE with one-hot encoding:  1.108 ± 0.155\n",
      "LogisticRegression MAE with one-hot and ordinal encoding:  1.271 ± 0.254\n",
      "LinearRegression MAE with one-hot and ordinal encoding:  1.195 ± 0.182\n",
      "\n",
      "\n",
      "CatBoost categorical features: ['repository_name', 'commit_author', 'hour', 'dayofweek']\n",
      "\n",
      "CatBoost regression MAE: 1.099 ± 0.184\n",
      "LogisticRegression MAE with one-hot encoding:  1.192 ± 0.177\n",
      "LinearRegression MAE with one-hot encoding:  1.179 ± 0.171\n",
      "LogisticRegression MAE with one-hot and ordinal encoding:  1.215 ± 0.213\n",
      "LinearRegression MAE with one-hot and ordinal encoding:  1.276 ± 0.213\n",
      "\n",
      "\n",
      "CPU times: user 7min 33s, sys: 1min 24s, total: 8min 58s\n",
      "Wall time: 5min 29s\n"
     ]
    }
   ],
   "source": [
    "%%time\n",
    "\n",
    "stds = pd.Series(name='MAE std.')  # Сюда будем записывать средние отклонения\n",
    "\n",
    "for n_splits in range(3, 11):  # Проведем тест на числе фолдов от 3 до 10\n",
    "    print('n_splits =', n_splits)  # Выведем на экран динамику процесса\n",
    "\n",
    "    # Датасет для записи результатов кросс-валидации\n",
    "    # 'features' - описание предобработки признаков, \n",
    "    # 'model' - модель, \n",
    "    # 'mae' - среднее значение метрики, \n",
    "    # 'std' - стандартное отклонение для результатов кросс-валидации\n",
    "    test_report = pd.DataFrame(columns=['features', 'model', 'mae', 'std'])\n",
    "    i = 0  # Индекс датасета (порядковый номер эксперимента)\n",
    "\n",
    "    # Переберем возможные варианты признаков, передаваемых моделям CatBoost\n",
    "    # как категориальные\n",
    "    for cat_features in (\n",
    "        ['repository_name', 'commit_author'], \n",
    "        ['repository_name', 'commit_author', 'hour'], \n",
    "        ['repository_name', 'commit_author', 'dayofweek'], \n",
    "        ['repository_name', 'commit_author', 'hour', 'dayofweek']\n",
    "    ):\n",
    "        # Для нагладности, выводим на экран динамику процесса\n",
    "        print('CatBoost categorical features:', cat_features)\n",
    "        print()\n",
    "\n",
    "        # Кросс-валидация модели CatBoostRegressor\n",
    "        catreg_scores = catreg_cv(X=X_train_no_text,\n",
    "                                  y=y_train,\n",
    "                                  n_splits=n_splits,\n",
    "                                  cat_features=cat_features)\n",
    "        print('CatBoost regression MAE: {}'\n",
    "              .format(cv_result(catreg_scores)))\n",
    "\n",
    "        # Заносим результаты кросс-валидации в датасет\n",
    "        i += 1\n",
    "        features = 'CatBoost categorical features: {}'.format(cat_features)\n",
    "        model = 'CatBoostRegressor'\n",
    "        mae = catreg_scores.mean()\n",
    "        std = catreg_scores.std()\n",
    "        test_report.loc[i, ['features', 'model', 'mae', 'std']] = \\\n",
    "        features, model, mae, std\n",
    "\n",
    "        # Прямое кодирование категориальных признаков\n",
    "        X_ohe = pd.get_dummies(X_train.drop(text_features, axis=1),\n",
    "                               columns=cat_features, drop_first=True)\n",
    "\n",
    "        # Кросс-валидация модели логистической регрессии\n",
    "        lr_scores = lr_cv(X_ohe, y_train, n_splits)\n",
    "        print('LogisticRegression MAE with one-hot encoding: ', \n",
    "              cv_result(lr_scores))\n",
    "\n",
    "        # Заносим результаты кросс-валидации в датасет\n",
    "        i += 1\n",
    "        features = 'OHE: {}'.format(cat_features)\n",
    "        model = 'LogisticRegression'\n",
    "        mae = lr_scores.mean()\n",
    "        std = lr_scores.std()\n",
    "        test_report.loc[i, ['features', 'model', 'mae', 'std']] = \\\n",
    "        features, model, mae, std\n",
    "\n",
    "        # Кросс-валидация модели линейной регрессии\n",
    "        linreg_scores = linreg_cv(X_ohe, y_train, n_splits)\n",
    "        print('LinearRegression MAE with one-hot encoding: ', \n",
    "              cv_result(linreg_scores))\n",
    "\n",
    "        # Заносим результаты кросс-валидации в датасет\n",
    "        i += 1\n",
    "        model = 'LinearRegression'\n",
    "        mae = linreg_scores.mean()\n",
    "        std = linreg_scores.std()\n",
    "        test_report.loc[i, ['features', 'model', 'mae', 'std']] = \\\n",
    "        features, model, mae, std\n",
    "\n",
    "        # Прямое кодирование категориальных признаков для выборки с порядковым \n",
    "        # кодированием признаков 'repository_name' и 'commit_author'\n",
    "        X_ordinal_ohe = pd.get_dummies(X_ordinal_train.drop(text_features, axis=1),\n",
    "                                       columns=cat_features[2:], drop_first=True)\n",
    "\n",
    "        # Кросс-валидация модели логистической регрессии\n",
    "        lr_scores = lr_cv(X_ordinal_ohe, y_train, n_splits)\n",
    "        print('LogisticRegression MAE with one-hot and ordinal encoding: ', \n",
    "              cv_result(lr_scores))\n",
    "\n",
    "        # Заносим результаты кросс-валидации в датасет\n",
    "        i += 1\n",
    "        features = 'Ordinal enc: {}. OHE: {}'.format(cat_features[:2], \n",
    "                                                     cat_features[2:])\n",
    "        model = 'LogisticRegression'\n",
    "        mae = lr_scores.mean()\n",
    "        std = lr_scores.std()\n",
    "        test_report.loc[i, ['features', 'model', 'mae', 'std']] = \\\n",
    "        features, model, mae, std\n",
    "\n",
    "        # Кросс-валидация модели линейной регрессии\n",
    "        linreg_scores = linreg_cv(X_ordinal_ohe, y_train, n_splits)\n",
    "        print('LinearRegression MAE with one-hot and ordinal encoding: ', \n",
    "              cv_result(linreg_scores))\n",
    "        print()\n",
    "\n",
    "        # Заносим результаты кросс-валидации в датасет\n",
    "        i += 1\n",
    "        model = 'LinearRegression'\n",
    "        mae = linreg_scores.mean()\n",
    "        std = linreg_scores.std()\n",
    "        test_report.loc[i, ['features', 'model', 'mae', 'std']] = \\\n",
    "        features, model, mae, std\n",
    "\n",
    "        print()\n",
    "\n",
    "        # Сохраняем среднее значение отлонений для данного числа фолдов\n",
    "        stds.loc[n_splits] = test_report['std'].mean()"
   ]
  },
  {
   "cell_type": "code",
   "execution_count": 27,
   "metadata": {
    "id": "3vuGXBjGoAyA",
    "outputId": "cd7d7ea8-565b-4b47-94fe-774257ec6eee"
   },
   "outputs": [
    {
     "data": {
      "text/plain": [
       "3     0.058045\n",
       "5     0.084993\n",
       "6     0.101131\n",
       "4     0.144458\n",
       "8     0.176178\n",
       "10    0.176745\n",
       "7     0.215023\n",
       "9     0.236535\n",
       "Name: MAE std., dtype: float64"
      ]
     },
     "execution_count": 27,
     "metadata": {},
     "output_type": "execute_result"
    }
   ],
   "source": [
    "stds.sort_values()  # Число фолдов и стандартные отклонения при кросс-валидации"
   ]
  },
  {
   "cell_type": "markdown",
   "metadata": {
    "id": "CrA4db8Vrg00"
   },
   "source": [
    "Для дальнейшей работы принимаем числофолдов кросс-валидации **n_splits = 3**.  \n",
    "Дополним предыдущий скрипт предсказанием классификатора CatBoostClassifier и посмотрим результаты кросс-валидации для различных моделей и вариантов предобработки признаков:"
   ]
  },
  {
   "cell_type": "code",
   "execution_count": 28,
   "metadata": {
    "id": "EZPfQ-nxj1_s",
    "outputId": "041ee50d-870f-4196-95b0-40ddb3cdcf31"
   },
   "outputs": [
    {
     "name": "stdout",
     "output_type": "stream",
     "text": [
      "CatBoost categorical features: ['repository_name', 'commit_author']\n",
      "\n",
      "CatBoost regression MAE: 1.185 ± 0.080\n",
      "CatBoost MAE without text features: 1.305 ± 0.030, with text features: 1.177 ± 0.157\n",
      "LogisticRegression MAE with one-hot encoding:  1.249 ± 0.071\n",
      "LinearRegression MAE with one-hot encoding:  1.185 ± 0.063\n",
      "LogisticRegression MAE with one-hot and ordinal encoding:  1.325 ± 0.110\n",
      "LinearRegression MAE with one-hot and ordinal encoding:  1.161 ± 0.015\n",
      "\n",
      "CatBoostClassifier with ordinal encoding\n",
      "CatBoost MAE without text features: 1.333 ± 0.086, with text features: 1.169 ± 0.049\n",
      "\n",
      "\n",
      "\n",
      "CatBoost categorical features: ['repository_name', 'commit_author', 'hour']\n",
      "\n",
      "CatBoost regression MAE: 1.261 ± 0.063\n",
      "CatBoost MAE without text features: 1.217 ± 0.087, with text features: 1.193 ± 0.172\n",
      "LogisticRegression MAE with one-hot encoding:  1.245 ± 0.066\n",
      "LinearRegression MAE with one-hot encoding:  1.221 ± 0.059\n",
      "LogisticRegression MAE with one-hot and ordinal encoding:  1.349 ± 0.061\n",
      "LinearRegression MAE with one-hot and ordinal encoding:  1.265 ± 0.098\n",
      "\n",
      "CatBoostClassifier with ordinal encoding\n",
      "CatBoost MAE without text features: 1.237 ± 0.063, with text features: 1.269 ± 0.105\n",
      "\n",
      "\n",
      "\n",
      "CatBoost categorical features: ['repository_name', 'commit_author', 'dayofweek']\n",
      "\n",
      "CatBoost regression MAE: 1.173 ± 0.025\n",
      "CatBoost MAE without text features: 1.257 ± 0.126, with text features: 1.137 ± 0.167\n",
      "LogisticRegression MAE with one-hot encoding:  1.221 ± 0.050\n",
      "LinearRegression MAE with one-hot encoding:  1.149 ± 0.015\n",
      "LogisticRegression MAE with one-hot and ordinal encoding:  1.321 ± 0.057\n",
      "LinearRegression MAE with one-hot and ordinal encoding:  1.161 ± 0.006\n",
      "\n",
      "CatBoostClassifier with ordinal encoding\n",
      "CatBoost MAE without text features: 1.273 ± 0.040, with text features: 1.181 ± 0.151\n",
      "\n",
      "\n",
      "\n",
      "CatBoost categorical features: ['repository_name', 'commit_author', 'hour', 'dayofweek']\n",
      "\n",
      "CatBoost regression MAE: 1.181 ± 0.020\n",
      "CatBoost MAE without text features: 1.177 ± 0.085, with text features: 1.124 ± 0.162\n",
      "LogisticRegression MAE with one-hot encoding:  1.153 ± 0.105\n",
      "LinearRegression MAE with one-hot encoding:  1.221 ± 0.057\n",
      "LogisticRegression MAE with one-hot and ordinal encoding:  1.309 ± 0.082\n",
      "LinearRegression MAE with one-hot and ordinal encoding:  1.309 ± 0.058\n",
      "\n",
      "CatBoostClassifier with ordinal encoding\n",
      "CatBoost MAE without text features: 1.209 ± 0.037, with text features: 1.237 ± 0.154\n",
      "\n",
      "\n",
      "\n",
      "CPU times: user 14min 17s, sys: 8min 13s, total: 22min 30s\n",
      "Wall time: 13min 54s\n"
     ]
    }
   ],
   "source": [
    "%%time\n",
    "\n",
    "n_splits = 3  # Выбранное число фолдов кросс-валидации\n",
    "\n",
    "# Датасет для записи результатов кросс-валидации\n",
    "test_report = pd.DataFrame(columns=['features', 'model', 'mae', 'std'])\n",
    "i = 0\n",
    "\n",
    "# Переберем возможные варианты признаков, передаваемых моделям CatBoost\n",
    "# как категориальные\n",
    "for cat_features in (['repository_name', 'commit_author'], \n",
    "                     ['repository_name', 'commit_author', 'hour'], \n",
    "                     ['repository_name', 'commit_author', 'dayofweek'], \n",
    "                     ['repository_name', 'commit_author', 'hour', 'dayofweek']):\n",
    "    # Будем выводить на печать динамику процесса и промежуточные результаты\n",
    "    print('CatBoost categorical features:', cat_features)\n",
    "    print()\n",
    "\n",
    "    # Кросс-валидация модели CatBoostRegressor\n",
    "    catreg_scores = catreg_cv(X=X_train_no_text,\n",
    "                            y=y_train,\n",
    "                            n_splits=n_splits,\n",
    "                            cat_features=cat_features)\n",
    "    print('CatBoost regression MAE: {}'\n",
    "    .format(cv_result(catreg_scores)))\n",
    "\n",
    "    # Заносим результаты кросс-валидации в датасет\n",
    "    i += 1\n",
    "    features = 'CatBoost categorical features: {}'.format(cat_features)\n",
    "    model = 'CatBoostRegressor'\n",
    "    mae = catreg_scores.mean()\n",
    "    std = catreg_scores.std()\n",
    "    test_report.loc[i, ['features', 'model', 'mae', 'std']] = \\\n",
    "    features, model, mae, std\n",
    "\n",
    "    # Кросс-валидация модели CatBoostClassifier без учета текстовых признаков\n",
    "    no_text_scores = cat_cv(X=X_train_no_text, \n",
    "                       y=y_train, \n",
    "                       n_splits=n_splits, \n",
    "                       cat_features=cat_features, \n",
    "                       text_features=None)\n",
    "\n",
    "    # Заносим результаты кросс-валидации в датасет\n",
    "    i += 1\n",
    "    features = 'CatBoost categorical features: {}'.format(cat_features)\n",
    "    model = 'CatBoostClassifier'\n",
    "    mae = no_text_scores.mean()\n",
    "    std = no_text_scores.std()\n",
    "    test_report.loc[i, ['features', 'model', 'mae', 'std']] = \\\n",
    "    features, model, mae, std\n",
    "\n",
    "    # Кросс-валидация модели CatBoostClassifier с учетом текстовых признаков\n",
    "    text_scores = cat_cv(X=X_train, \n",
    "                    y=y_train, \n",
    "                    n_splits=n_splits, \n",
    "                    cat_features=cat_features, \n",
    "                    text_features=text_features)\n",
    "\n",
    "    # Заносим результаты кросс-валидации в датасет\n",
    "    i += 1\n",
    "    features = ('CatBoost categorical features: {}. Text features: {}'\n",
    "              .format(cat_features, text_features))\n",
    "    model = 'CatBoostClassifier'\n",
    "    mae = text_scores.mean()\n",
    "    std = text_scores.std()\n",
    "    test_report.loc[i, ['features', 'model', 'mae', 'std']] = \\\n",
    "    features, model, mae, std\n",
    "\n",
    "    print('CatBoost MAE without text features: {}, with text features: {}'\n",
    "    .format(cv_result(no_text_scores), cv_result(text_scores)))\n",
    "\n",
    "    # Прямое кодирование категориальных признаков\n",
    "    X_ohe = pd.get_dummies(X_train.drop(text_features, axis=1),\n",
    "                         columns=cat_features, drop_first=True)\n",
    "\n",
    "    # Кросс-валидация модели логистической регрессии\n",
    "    lr_scores = lr_cv(X_ohe, y_train, n_splits)\n",
    "    print('LogisticRegression MAE with one-hot encoding: ', cv_result(lr_scores))\n",
    "\n",
    "    # Заносим результаты кросс-валидации в датасет\n",
    "    i += 1\n",
    "    features = 'OHE: {}'.format(cat_features)\n",
    "    model = 'LogisticRegression'\n",
    "    mae = lr_scores.mean()\n",
    "    std = lr_scores.std()\n",
    "    test_report.loc[i, ['features', 'model', 'mae', 'std']] = \\\n",
    "    features, model, mae, std\n",
    "\n",
    "    # Кросс-валидация модели линейной регрессии\n",
    "    linreg_scores = linreg_cv(X_ohe, y_train, n_splits)\n",
    "    print('LinearRegression MAE with one-hot encoding: ', \n",
    "        cv_result(linreg_scores))\n",
    "\n",
    "    # Заносим результаты кросс-валидации в датасет\n",
    "    i += 1\n",
    "    model = 'LinearRegression'\n",
    "    mae = linreg_scores.mean()\n",
    "    std = linreg_scores.std()\n",
    "    test_report.loc[i, ['features', 'model', 'mae', 'std']] = \\\n",
    "    features, model, mae, std\n",
    "\n",
    "    # Прямое кодирование категориальных признаков для выборки с порядковым \n",
    "    # кодированием признаков 'repository_name' и 'commit_author'\n",
    "    X_ordinal_ohe = pd.get_dummies(X_ordinal_train.drop(text_features, axis=1),\n",
    "                                 columns=cat_features[2:], drop_first=True)\n",
    "\n",
    "    # Кросс-валидация модели логистической регрессии\n",
    "    lr_scores = lr_cv(X_ordinal_ohe, y_train, n_splits)\n",
    "    print('LogisticRegression MAE with one-hot and ordinal encoding: ', \n",
    "        cv_result(lr_scores))\n",
    "\n",
    "    # Заносим результаты кросс-валидации в датасет\n",
    "    i += 1\n",
    "    features = 'Ordinal enc: {}. OHE: {}'.format(cat_features[:2], \n",
    "                                               cat_features[2:])\n",
    "    model = 'LogisticRegression'\n",
    "    mae = lr_scores.mean()\n",
    "    std = lr_scores.std()\n",
    "    test_report.loc[i, ['features', 'model', 'mae', 'std']] = \\\n",
    "    features, model, mae, std\n",
    "\n",
    "    # Кросс-валидация модели линейной регрессии\n",
    "    linreg_scores = linreg_cv(X_ordinal_ohe, y_train, n_splits)\n",
    "    print('LinearRegression MAE with one-hot and ordinal encoding: ', \n",
    "        cv_result(linreg_scores))\n",
    "    print()\n",
    "\n",
    "    # Заносим результаты кросс-валидации в датасет\n",
    "    i += 1\n",
    "    model = 'LinearRegression'\n",
    "    mae = linreg_scores.mean()\n",
    "    std = linreg_scores.std()\n",
    "    test_report.loc[i, ['features', 'model', 'mae', 'std']] = \\\n",
    "    features, model, mae, std\n",
    "\n",
    "    # Кросс-валидация модели CatBoostClassifier с порядковым кодированием \n",
    "    # признаков 'repository_name' и 'commit_author', без учета текстовых признаков\n",
    "    print('CatBoostClassifier with ordinal encoding')\n",
    "    no_text_scores = cat_cv(X=X_ordinal_train_no_text, \n",
    "                       y=y_train, \n",
    "                       n_splits=n_splits,\n",
    "                       cat_features=cat_features[2:],\n",
    "                       text_features=None)\n",
    "\n",
    "    # Заносим результаты кросс-валидации в датасет\n",
    "    i += 1\n",
    "    features = ('CatBoost categorical features: {}. Ordinal features: {}'\n",
    "              .format(cat_features[2:], cat_features[:2]))\n",
    "    model = 'CatBoostClassifier'\n",
    "    mae = no_text_scores.mean()\n",
    "    std = no_text_scores.std()\n",
    "    test_report.loc[i, ['features', 'model', 'mae', 'std']] = \\\n",
    "    features, model, mae, std\n",
    "\n",
    "    # Кросс-валидация модели CatBoostClassifier с порядковым кодированием \n",
    "    # признаков 'repository_name' и 'commit_author', с учетом текстовых признаков\n",
    "    text_scores = cat_cv(X=X_ordinal_train,\n",
    "                    y=y_train,\n",
    "                    n_splits=n_splits,\n",
    "                    cat_features=cat_features[2:],\n",
    "                    text_features=text_features)\n",
    "\n",
    "    # Заносим результаты кросс-валидации в датасет\n",
    "    i += 1\n",
    "    features = (\n",
    "    'CatBoost categorical features: {}. Ordinal features: {}. Text features: {}'\n",
    "              .format(cat_features[2:], cat_features[:2], text_features)\n",
    "              )\n",
    "    model = 'CatBoostClassifier'\n",
    "    mae = text_scores.mean()\n",
    "    std = text_scores.std()\n",
    "    test_report.loc[i, ['features', 'model', 'mae', 'std']] = \\\n",
    "    features, model, mae, std\n",
    "\n",
    "    print('CatBoost MAE without text features: {}, with text features: {}'\n",
    "    .format(cv_result(no_text_scores), cv_result(text_scores)))\n",
    "    print('\\n\\n')"
   ]
  },
  {
   "cell_type": "code",
   "execution_count": 29,
   "metadata": {
    "id": "H15MU3Nbv88W",
    "outputId": "47faf0a9-fb49-4f09-ed6f-a26bb338f1fd"
   },
   "outputs": [
    {
     "data": {
      "text/html": [
       "<div>\n",
       "<style scoped>\n",
       "    .dataframe tbody tr th:only-of-type {\n",
       "        vertical-align: middle;\n",
       "    }\n",
       "\n",
       "    .dataframe tbody tr th {\n",
       "        vertical-align: top;\n",
       "    }\n",
       "\n",
       "    .dataframe thead th {\n",
       "        text-align: right;\n",
       "    }\n",
       "</style>\n",
       "<table border=\"1\" class=\"dataframe\">\n",
       "  <thead>\n",
       "    <tr style=\"text-align: right;\">\n",
       "      <th></th>\n",
       "      <th>features</th>\n",
       "      <th>model</th>\n",
       "      <th>mae</th>\n",
       "      <th>std</th>\n",
       "    </tr>\n",
       "  </thead>\n",
       "  <tbody>\n",
       "    <tr>\n",
       "      <th>30</th>\n",
       "      <td>CatBoost categorical features: ['repository_na...</td>\n",
       "      <td>CatBoostClassifier</td>\n",
       "      <td>1.1245</td>\n",
       "      <td>0.16234</td>\n",
       "    </tr>\n",
       "    <tr>\n",
       "      <th>21</th>\n",
       "      <td>CatBoost categorical features: ['repository_na...</td>\n",
       "      <td>CatBoostClassifier</td>\n",
       "      <td>1.13655</td>\n",
       "      <td>0.167331</td>\n",
       "    </tr>\n",
       "    <tr>\n",
       "      <th>23</th>\n",
       "      <td>OHE: ['repository_name', 'commit_author', 'day...</td>\n",
       "      <td>LinearRegression</td>\n",
       "      <td>1.14859</td>\n",
       "      <td>0.0150267</td>\n",
       "    </tr>\n",
       "    <tr>\n",
       "      <th>31</th>\n",
       "      <td>OHE: ['repository_name', 'commit_author', 'hou...</td>\n",
       "      <td>LogisticRegression</td>\n",
       "      <td>1.15261</td>\n",
       "      <td>0.105187</td>\n",
       "    </tr>\n",
       "    <tr>\n",
       "      <th>25</th>\n",
       "      <td>Ordinal enc: ['repository_name', 'commit_autho...</td>\n",
       "      <td>LinearRegression</td>\n",
       "      <td>1.16064</td>\n",
       "      <td>0.00567957</td>\n",
       "    </tr>\n",
       "  </tbody>\n",
       "</table>\n",
       "</div>"
      ],
      "text/plain": [
       "                                             features               model  \\\n",
       "30  CatBoost categorical features: ['repository_na...  CatBoostClassifier   \n",
       "21  CatBoost categorical features: ['repository_na...  CatBoostClassifier   \n",
       "23  OHE: ['repository_name', 'commit_author', 'day...    LinearRegression   \n",
       "31  OHE: ['repository_name', 'commit_author', 'hou...  LogisticRegression   \n",
       "25  Ordinal enc: ['repository_name', 'commit_autho...    LinearRegression   \n",
       "\n",
       "        mae         std  \n",
       "30   1.1245     0.16234  \n",
       "21  1.13655    0.167331  \n",
       "23  1.14859   0.0150267  \n",
       "31  1.15261    0.105187  \n",
       "25  1.16064  0.00567957  "
      ]
     },
     "execution_count": 29,
     "metadata": {},
     "output_type": "execute_result"
    }
   ],
   "source": [
    "# Комбинации признаков и моделей, показавшие лучшие результаты\n",
    "test_report.sort_values('mae').head()"
   ]
  },
  {
   "cell_type": "code",
   "execution_count": 31,
   "metadata": {
    "id": "7iw102yQwhLR",
    "outputId": "a2cfe1b6-062d-405e-e8f3-5658b801d496"
   },
   "outputs": [
    {
     "name": "stdout",
     "output_type": "stream",
     "text": [
      "CatBoost categorical features: ['repository_name', 'commit_author', 'hour', 'dayofweek']. Text features: ['commit_message']\n",
      "CatBoost categorical features: ['repository_name', 'commit_author', 'dayofweek']. Text features: ['commit_message']\n",
      "OHE: ['repository_name', 'commit_author', 'dayofweek']\n"
     ]
    }
   ],
   "source": [
    "# Описание предобработки признаков для двух топовых результатов\n",
    "# и лучшей модели линейной регрессии\n",
    "print(test_report.loc[30, 'features'])\n",
    "print(test_report.loc[21, 'features'])\n",
    "print(test_report.loc[23, 'features'])"
   ]
  },
  {
   "cell_type": "markdown",
   "metadata": {
    "id": "TbNa3yK-o9hB"
   },
   "source": [
    "Для дальнейшей работы возьмем лучшую комбинацию признаков для модели классификатора CatBoost и лучшую комбинацию признаков для модели линейной регрессии.  "
   ]
  },
  {
   "cell_type": "code",
   "execution_count": 32,
   "metadata": {
    "id": "cGmYaIjhLUQA",
    "outputId": "2aa31bde-3141-435b-9a4c-fa1d4590dc90"
   },
   "outputs": [
    {
     "data": {
      "text/html": [
       "<div>\n",
       "<style scoped>\n",
       "    .dataframe tbody tr th:only-of-type {\n",
       "        vertical-align: middle;\n",
       "    }\n",
       "\n",
       "    .dataframe tbody tr th {\n",
       "        vertical-align: top;\n",
       "    }\n",
       "\n",
       "    .dataframe thead th {\n",
       "        text-align: right;\n",
       "    }\n",
       "</style>\n",
       "<table border=\"1\" class=\"dataframe\">\n",
       "  <thead>\n",
       "    <tr style=\"text-align: right;\">\n",
       "      <th></th>\n",
       "      <th>repository_name</th>\n",
       "      <th>commit_author</th>\n",
       "      <th>commit_message</th>\n",
       "      <th>hour</th>\n",
       "      <th>dayofweek</th>\n",
       "    </tr>\n",
       "  </thead>\n",
       "  <tbody>\n",
       "    <tr>\n",
       "      <th>210</th>\n",
       "      <td>dockers</td>\n",
       "      <td>Victor</td>\n",
       "      <td>Добавил Fatt</td>\n",
       "      <td>17</td>\n",
       "      <td>2</td>\n",
       "    </tr>\n",
       "    <tr>\n",
       "      <th>76</th>\n",
       "      <td>agent</td>\n",
       "      <td>Victor</td>\n",
       "      <td>Логирование всех выполненых на хосте команд</td>\n",
       "      <td>15</td>\n",
       "      <td>4</td>\n",
       "    </tr>\n",
       "    <tr>\n",
       "      <th>94</th>\n",
       "      <td>conductor</td>\n",
       "      <td>Wendy</td>\n",
       "      <td>Добавлены алерты на неработающие правила сурикаты</td>\n",
       "      <td>9</td>\n",
       "      <td>4</td>\n",
       "    </tr>\n",
       "    <tr>\n",
       "      <th>222</th>\n",
       "      <td>sensor</td>\n",
       "      <td>Wendy</td>\n",
       "      <td>add folder for suricata</td>\n",
       "      <td>15</td>\n",
       "      <td>3</td>\n",
       "    </tr>\n",
       "    <tr>\n",
       "      <th>311</th>\n",
       "      <td>sensor</td>\n",
       "      <td>other</td>\n",
       "      <td>installer changes</td>\n",
       "      <td>13</td>\n",
       "      <td>0</td>\n",
       "    </tr>\n",
       "  </tbody>\n",
       "</table>\n",
       "</div>"
      ],
      "text/plain": [
       "    repository_name commit_author  \\\n",
       "210         dockers        Victor   \n",
       "76            agent        Victor   \n",
       "94        conductor         Wendy   \n",
       "222          sensor         Wendy   \n",
       "311          sensor         other   \n",
       "\n",
       "                                        commit_message  hour  dayofweek  \n",
       "210                                       Добавил Fatt    17          2  \n",
       "76         Логирование всех выполненых на хосте команд    15          4  \n",
       "94   Добавлены алерты на неработающие правила сурикаты     9          4  \n",
       "222                            add folder for suricata    15          3  \n",
       "311                                  installer changes    13          0  "
      ]
     },
     "execution_count": 32,
     "metadata": {},
     "output_type": "execute_result"
    }
   ],
   "source": [
    "# Признаки для обучения классификаторов CatBoost (комбинация №№30)\n",
    "X_cat_train = X_train.copy()\n",
    "X_cat_test = X_test.copy()\n",
    "X_cat_train.head()"
   ]
  },
  {
   "cell_type": "code",
   "execution_count": 33,
   "metadata": {
    "id": "VA08mmoJXAbj",
    "outputId": "71b8916e-a15b-418b-db79-f7bab4f7aa4c"
   },
   "outputs": [
    {
     "data": {
      "text/html": [
       "<div>\n",
       "<style scoped>\n",
       "    .dataframe tbody tr th:only-of-type {\n",
       "        vertical-align: middle;\n",
       "    }\n",
       "\n",
       "    .dataframe tbody tr th {\n",
       "        vertical-align: top;\n",
       "    }\n",
       "\n",
       "    .dataframe thead th {\n",
       "        text-align: right;\n",
       "    }\n",
       "</style>\n",
       "<table border=\"1\" class=\"dataframe\">\n",
       "  <thead>\n",
       "    <tr style=\"text-align: right;\">\n",
       "      <th></th>\n",
       "      <th>hour</th>\n",
       "      <th>repository_name_conductor</th>\n",
       "      <th>repository_name_dockers</th>\n",
       "      <th>repository_name_mlm</th>\n",
       "      <th>repository_name_sensor</th>\n",
       "      <th>repository_name_standard</th>\n",
       "      <th>commit_author_Mallory</th>\n",
       "      <th>commit_author_Victor</th>\n",
       "      <th>commit_author_Wendy</th>\n",
       "      <th>commit_author_other</th>\n",
       "      <th>dayofweek_1</th>\n",
       "      <th>dayofweek_2</th>\n",
       "      <th>dayofweek_3</th>\n",
       "      <th>dayofweek_4</th>\n",
       "      <th>dayofweek_5</th>\n",
       "      <th>dayofweek_6</th>\n",
       "    </tr>\n",
       "  </thead>\n",
       "  <tbody>\n",
       "    <tr>\n",
       "      <th>210</th>\n",
       "      <td>17</td>\n",
       "      <td>0</td>\n",
       "      <td>1</td>\n",
       "      <td>0</td>\n",
       "      <td>0</td>\n",
       "      <td>0</td>\n",
       "      <td>0</td>\n",
       "      <td>1</td>\n",
       "      <td>0</td>\n",
       "      <td>0</td>\n",
       "      <td>0</td>\n",
       "      <td>1</td>\n",
       "      <td>0</td>\n",
       "      <td>0</td>\n",
       "      <td>0</td>\n",
       "      <td>0</td>\n",
       "    </tr>\n",
       "    <tr>\n",
       "      <th>76</th>\n",
       "      <td>15</td>\n",
       "      <td>0</td>\n",
       "      <td>0</td>\n",
       "      <td>0</td>\n",
       "      <td>0</td>\n",
       "      <td>0</td>\n",
       "      <td>0</td>\n",
       "      <td>1</td>\n",
       "      <td>0</td>\n",
       "      <td>0</td>\n",
       "      <td>0</td>\n",
       "      <td>0</td>\n",
       "      <td>0</td>\n",
       "      <td>1</td>\n",
       "      <td>0</td>\n",
       "      <td>0</td>\n",
       "    </tr>\n",
       "    <tr>\n",
       "      <th>94</th>\n",
       "      <td>9</td>\n",
       "      <td>1</td>\n",
       "      <td>0</td>\n",
       "      <td>0</td>\n",
       "      <td>0</td>\n",
       "      <td>0</td>\n",
       "      <td>0</td>\n",
       "      <td>0</td>\n",
       "      <td>1</td>\n",
       "      <td>0</td>\n",
       "      <td>0</td>\n",
       "      <td>0</td>\n",
       "      <td>0</td>\n",
       "      <td>1</td>\n",
       "      <td>0</td>\n",
       "      <td>0</td>\n",
       "    </tr>\n",
       "    <tr>\n",
       "      <th>222</th>\n",
       "      <td>15</td>\n",
       "      <td>0</td>\n",
       "      <td>0</td>\n",
       "      <td>0</td>\n",
       "      <td>1</td>\n",
       "      <td>0</td>\n",
       "      <td>0</td>\n",
       "      <td>0</td>\n",
       "      <td>1</td>\n",
       "      <td>0</td>\n",
       "      <td>0</td>\n",
       "      <td>0</td>\n",
       "      <td>1</td>\n",
       "      <td>0</td>\n",
       "      <td>0</td>\n",
       "      <td>0</td>\n",
       "    </tr>\n",
       "    <tr>\n",
       "      <th>311</th>\n",
       "      <td>13</td>\n",
       "      <td>0</td>\n",
       "      <td>0</td>\n",
       "      <td>0</td>\n",
       "      <td>1</td>\n",
       "      <td>0</td>\n",
       "      <td>0</td>\n",
       "      <td>0</td>\n",
       "      <td>0</td>\n",
       "      <td>1</td>\n",
       "      <td>0</td>\n",
       "      <td>0</td>\n",
       "      <td>0</td>\n",
       "      <td>0</td>\n",
       "      <td>0</td>\n",
       "      <td>0</td>\n",
       "    </tr>\n",
       "  </tbody>\n",
       "</table>\n",
       "</div>"
      ],
      "text/plain": [
       "     hour  repository_name_conductor  repository_name_dockers  \\\n",
       "210    17                          0                        1   \n",
       "76     15                          0                        0   \n",
       "94      9                          1                        0   \n",
       "222    15                          0                        0   \n",
       "311    13                          0                        0   \n",
       "\n",
       "     repository_name_mlm  repository_name_sensor  repository_name_standard  \\\n",
       "210                    0                       0                         0   \n",
       "76                     0                       0                         0   \n",
       "94                     0                       0                         0   \n",
       "222                    0                       1                         0   \n",
       "311                    0                       1                         0   \n",
       "\n",
       "     commit_author_Mallory  commit_author_Victor  commit_author_Wendy  \\\n",
       "210                      0                     1                    0   \n",
       "76                       0                     1                    0   \n",
       "94                       0                     0                    1   \n",
       "222                      0                     0                    1   \n",
       "311                      0                     0                    0   \n",
       "\n",
       "     commit_author_other  dayofweek_1  dayofweek_2  dayofweek_3  dayofweek_4  \\\n",
       "210                    0            0            1            0            0   \n",
       "76                     0            0            0            0            1   \n",
       "94                     0            0            0            0            1   \n",
       "222                    0            0            0            1            0   \n",
       "311                    1            0            0            0            0   \n",
       "\n",
       "     dayofweek_5  dayofweek_6  \n",
       "210            0            0  \n",
       "76             0            0  \n",
       "94             0            0  \n",
       "222            0            0  \n",
       "311            0            0  "
      ]
     },
     "execution_count": 33,
     "metadata": {},
     "output_type": "execute_result"
    }
   ],
   "source": [
    "# Признаки для обучения линейной регрессии (с прямым кодированием), комбинация №23\n",
    "X_23_train = pd.get_dummies(\n",
    "    X_train.drop(text_features, axis=1),\n",
    "    columns=['repository_name', 'commit_author', 'dayofweek'],\n",
    "    drop_first=True\n",
    "    )\n",
    "X_23_test = pd.get_dummies(\n",
    "    X_test.drop(text_features, axis=1),\n",
    "    columns=['repository_name', 'commit_author', 'dayofweek'],\n",
    "    drop_first=True\n",
    "    )\n",
    "X_23_train.head()"
   ]
  },
  {
   "cell_type": "code",
   "execution_count": 34,
   "metadata": {
    "id": "E6Qzz_AgRrqh",
    "outputId": "640ea2e3-533d-4764-dff0-60da958bd304"
   },
   "outputs": [
    {
     "data": {
      "text/html": [
       "<div>\n",
       "<style scoped>\n",
       "    .dataframe tbody tr th:only-of-type {\n",
       "        vertical-align: middle;\n",
       "    }\n",
       "\n",
       "    .dataframe tbody tr th {\n",
       "        vertical-align: top;\n",
       "    }\n",
       "\n",
       "    .dataframe thead th {\n",
       "        text-align: right;\n",
       "    }\n",
       "</style>\n",
       "<table border=\"1\" class=\"dataframe\">\n",
       "  <thead>\n",
       "    <tr style=\"text-align: right;\">\n",
       "      <th></th>\n",
       "      <th>hour</th>\n",
       "      <th>repository_name_conductor</th>\n",
       "      <th>repository_name_dockers</th>\n",
       "      <th>repository_name_mlm</th>\n",
       "      <th>repository_name_sensor</th>\n",
       "      <th>repository_name_standard</th>\n",
       "      <th>commit_author_Mallory</th>\n",
       "      <th>commit_author_Victor</th>\n",
       "      <th>commit_author_Wendy</th>\n",
       "      <th>commit_author_other</th>\n",
       "      <th>dayofweek_1</th>\n",
       "      <th>dayofweek_2</th>\n",
       "      <th>dayofweek_3</th>\n",
       "      <th>dayofweek_4</th>\n",
       "      <th>dayofweek_6</th>\n",
       "    </tr>\n",
       "  </thead>\n",
       "  <tbody>\n",
       "    <tr>\n",
       "      <th>73</th>\n",
       "      <td>11</td>\n",
       "      <td>0</td>\n",
       "      <td>0</td>\n",
       "      <td>0</td>\n",
       "      <td>0</td>\n",
       "      <td>0</td>\n",
       "      <td>0</td>\n",
       "      <td>1</td>\n",
       "      <td>0</td>\n",
       "      <td>0</td>\n",
       "      <td>0</td>\n",
       "      <td>0</td>\n",
       "      <td>0</td>\n",
       "      <td>1</td>\n",
       "      <td>0</td>\n",
       "    </tr>\n",
       "    <tr>\n",
       "      <th>218</th>\n",
       "      <td>20</td>\n",
       "      <td>0</td>\n",
       "      <td>0</td>\n",
       "      <td>0</td>\n",
       "      <td>1</td>\n",
       "      <td>0</td>\n",
       "      <td>0</td>\n",
       "      <td>0</td>\n",
       "      <td>1</td>\n",
       "      <td>0</td>\n",
       "      <td>0</td>\n",
       "      <td>0</td>\n",
       "      <td>1</td>\n",
       "      <td>0</td>\n",
       "      <td>0</td>\n",
       "    </tr>\n",
       "    <tr>\n",
       "      <th>25</th>\n",
       "      <td>13</td>\n",
       "      <td>0</td>\n",
       "      <td>0</td>\n",
       "      <td>1</td>\n",
       "      <td>0</td>\n",
       "      <td>0</td>\n",
       "      <td>0</td>\n",
       "      <td>1</td>\n",
       "      <td>0</td>\n",
       "      <td>0</td>\n",
       "      <td>0</td>\n",
       "      <td>0</td>\n",
       "      <td>0</td>\n",
       "      <td>0</td>\n",
       "      <td>1</td>\n",
       "    </tr>\n",
       "    <tr>\n",
       "      <th>208</th>\n",
       "      <td>13</td>\n",
       "      <td>0</td>\n",
       "      <td>1</td>\n",
       "      <td>0</td>\n",
       "      <td>0</td>\n",
       "      <td>0</td>\n",
       "      <td>0</td>\n",
       "      <td>1</td>\n",
       "      <td>0</td>\n",
       "      <td>0</td>\n",
       "      <td>0</td>\n",
       "      <td>0</td>\n",
       "      <td>1</td>\n",
       "      <td>0</td>\n",
       "      <td>0</td>\n",
       "    </tr>\n",
       "    <tr>\n",
       "      <th>9</th>\n",
       "      <td>14</td>\n",
       "      <td>0</td>\n",
       "      <td>0</td>\n",
       "      <td>1</td>\n",
       "      <td>0</td>\n",
       "      <td>0</td>\n",
       "      <td>0</td>\n",
       "      <td>1</td>\n",
       "      <td>0</td>\n",
       "      <td>0</td>\n",
       "      <td>0</td>\n",
       "      <td>1</td>\n",
       "      <td>0</td>\n",
       "      <td>0</td>\n",
       "      <td>0</td>\n",
       "    </tr>\n",
       "  </tbody>\n",
       "</table>\n",
       "</div>"
      ],
      "text/plain": [
       "     hour  repository_name_conductor  repository_name_dockers  \\\n",
       "73     11                          0                        0   \n",
       "218    20                          0                        0   \n",
       "25     13                          0                        0   \n",
       "208    13                          0                        1   \n",
       "9      14                          0                        0   \n",
       "\n",
       "     repository_name_mlm  repository_name_sensor  repository_name_standard  \\\n",
       "73                     0                       0                         0   \n",
       "218                    0                       1                         0   \n",
       "25                     1                       0                         0   \n",
       "208                    0                       0                         0   \n",
       "9                      1                       0                         0   \n",
       "\n",
       "     commit_author_Mallory  commit_author_Victor  commit_author_Wendy  \\\n",
       "73                       0                     1                    0   \n",
       "218                      0                     0                    1   \n",
       "25                       0                     1                    0   \n",
       "208                      0                     1                    0   \n",
       "9                        0                     1                    0   \n",
       "\n",
       "     commit_author_other  dayofweek_1  dayofweek_2  dayofweek_3  dayofweek_4  \\\n",
       "73                     0            0            0            0            1   \n",
       "218                    0            0            0            1            0   \n",
       "25                     0            0            0            0            0   \n",
       "208                    0            0            0            1            0   \n",
       "9                      0            0            1            0            0   \n",
       "\n",
       "     dayofweek_6  \n",
       "73             0  \n",
       "218            0  \n",
       "25             1  \n",
       "208            0  \n",
       "9              0  "
      ]
     },
     "execution_count": 34,
     "metadata": {},
     "output_type": "execute_result"
    }
   ],
   "source": [
    "X_23_test.head()"
   ]
  },
  {
   "cell_type": "code",
   "execution_count": 35,
   "metadata": {
    "id": "00zi42T8RuKe"
   },
   "outputs": [],
   "source": [
    "# Из тестовой выборки выпал признак \"dayofweek_5\" (все значения нулевые):\n",
    "X_23_test['dayofweek_5'] = 0  # Долбавим его вручную."
   ]
  },
  {
   "cell_type": "markdown",
   "metadata": {
    "id": "DbjmlARIDjPO"
   },
   "source": [
    "#### 2.2. Тюнинг гиперпараметров"
   ]
  },
  {
   "cell_type": "markdown",
   "metadata": {
    "id": "zKzOoFwUE5yn"
   },
   "source": [
    "Учитывая, что модель классификатора CatBoost относительно долго обучается, для тюнинга принимаем стратегию последовательного перебора гиперпараметров и просмотра динамики метрики на небольшом наборе вариантов значения каждого гиперпараметра.  \n",
    "Данная методика не гарантирует нахождение наилучшего сочетания гиперпараметров, но позволяет достаточно (относительно) быстро выявить закономерности между гиперпараметрами модели и метрикой качества предсказания."
   ]
  },
  {
   "cell_type": "code",
   "execution_count": 36,
   "metadata": {
    "id": "wRWHNzPTDH-Z"
   },
   "outputs": [],
   "source": [
    "'''\n",
    "Вспомогательная функция для тюнинга гиперпараметров\n",
    "catboost_params - словарь тюниных гиперпараметров (отличных от дефолтных),\n",
    "param - тюнингуемый гиперпатаметр,\n",
    "vals - множество значений гиперпараметра для тюнинга.\n",
    "Функция возвращает датасет со значениями гиперпараметра в качестве индекса и \n",
    "полученными в результате кросс-валидации значениями МАЕ и ст.отклонения.\n",
    "'''\n",
    "def tune(X_train, y_train, catboost_params, param, val, random_state=43):\n",
    "    catboost_params[param] = val\n",
    "    scores = cat_cv(X=X_train,\n",
    "                  y=y_train,\n",
    "                  n_splits=n_splits,\n",
    "                  cat_features=cat_features,\n",
    "                  text_features=text_features,\n",
    "                  random_state=random_state,\n",
    "                  catboost_params=catboost_params)\n",
    "    print('{} = {}: MAE = {:.3f} ± {:.3f}'.format(param, val, scores.mean(), scores.std()))\n",
    "    return scores.mean(), scores.std()"
   ]
  },
  {
   "cell_type": "markdown",
   "metadata": {
    "id": "z5kzVLV6ZBKh"
   },
   "source": [
    "**2.2.1. Комбинация №30**  \n",
    "- Признаки в исходном формате;  \n",
    "- Модель CatBoostClassifier;  \n",
    "- CatBoost categorical features: ['repository_name', 'commit_author', 'dayofweek'];  \n",
    "- CatBoost Text features: ['commit_message'].  "
   ]
  },
  {
   "cell_type": "code",
   "execution_count": 37,
   "metadata": {
    "id": "gBseVcmGcI2N",
    "outputId": "4988ba9a-459e-41ec-a9b0-3dc2801a74b9"
   },
   "outputs": [
    {
     "data": {
      "text/plain": [
       "1.1244979919678715"
      ]
     },
     "execution_count": 37,
     "metadata": {},
     "output_type": "execute_result"
    }
   ],
   "source": [
    "# MAE с дефолтными гиперпараметрами:\n",
    "test_report.loc[30, 'mae']"
   ]
  },
  {
   "cell_type": "code",
   "execution_count": 38,
   "metadata": {
    "id": "pVrw7IKTXgOL"
   },
   "outputs": [],
   "source": [
    "# Категориальные признаки модели CatBoost\n",
    "cat_features = ['repository_name', 'commit_author', 'hour', 'dayofweek']  \n",
    "text_features = ['commit_message']  # Текстовые признаки\n",
    "n_splits = 3  # Число фолдов\n",
    "\n",
    "# Дефолтные гиперпараметры модели\n",
    "catboost_default_params = {\n",
    "        'iterations': 1000,\n",
    "        'learning_rate': 0.03,\n",
    "        'eval_metric': 'Accuracy',\n",
    "        'task_type': 'GPU'\n",
    "    }\n",
    "\n",
    "# Киллекция тюниных (отличных от дефолтных) гиперпараметров\n",
    "catboost_params_coll = {}"
   ]
  },
  {
   "cell_type": "markdown",
   "metadata": {
    "id": "CtDDBVJRyKuW"
   },
   "source": [
    "Тюнинг к-ва деревьев (iterations) и числа разветвлений (depth):"
   ]
  },
  {
   "cell_type": "code",
   "execution_count": 39,
   "metadata": {
    "id": "NY3iJ1bOgViQ",
    "outputId": "eab34a10-6529-4542-8980-b3211f5ae761"
   },
   "outputs": [
    {
     "name": "stdout",
     "output_type": "stream",
     "text": [
      "depth: 6\n",
      "iterations = 100: MAE = 1.104 ± 0.046\n",
      "iterations = 200: MAE = 1.112 ± 0.093\n",
      "iterations = 300: MAE = 1.124 ± 0.091\n",
      "iterations = 400: MAE = 1.104 ± 0.132\n",
      "iterations = 500: MAE = 1.124 ± 0.124\n",
      "depth: 7\n",
      "iterations = 100: MAE = 1.129 ± 0.140\n",
      "iterations = 200: MAE = 1.141 ± 0.111\n",
      "iterations = 300: MAE = 1.169 ± 0.104\n",
      "iterations = 400: MAE = 1.161 ± 0.130\n",
      "iterations = 500: MAE = 1.153 ± 0.173\n",
      "depth: 8\n",
      "iterations = 100: MAE = 1.112 ± 0.070\n",
      "iterations = 200: MAE = 1.116 ± 0.093\n",
      "iterations = 300: MAE = 1.076 ± 0.113\n",
      "iterations = 400: MAE = 1.108 ± 0.153\n",
      "iterations = 500: MAE = 1.133 ± 0.119\n",
      "depth: 9\n",
      "iterations = 100: MAE = 1.133 ± 0.074\n",
      "iterations = 200: MAE = 1.096 ± 0.113\n",
      "iterations = 300: MAE = 1.108 ± 0.090\n",
      "iterations = 400: MAE = 1.092 ± 0.105\n",
      "iterations = 500: MAE = 1.116 ± 0.128\n",
      "depth: 10\n",
      "iterations = 100: MAE = 1.112 ± 0.121\n",
      "iterations = 200: MAE = 1.120 ± 0.094\n",
      "iterations = 300: MAE = 1.108 ± 0.069\n",
      "iterations = 400: MAE = 1.124 ± 0.080\n",
      "iterations = 500: MAE = 1.133 ± 0.086\n",
      "CPU times: user 15min 33s, sys: 10min 19s, total: 25min 53s\n",
      "Wall time: 15min 3s\n"
     ]
    }
   ],
   "source": [
    "%%time\n",
    "\n",
    "# Датасет для фиксации значений метрики\n",
    "res = pd.DataFrame(columns=['depth', 'iterations', 'mae', 'std'])\n",
    "i = 1  # Порядковый номер эксперимента (индекс датасета)\n",
    "catboost_params = catboost_params_coll.copy()\n",
    "\n",
    "for depth in range(6, 11):  # Диапазон числа разветвлений\n",
    "    catboost_params['depth'] = depth\n",
    "    print('depth:', depth)\n",
    "    for iterations in range(100, 501, 100):  # Диапазон к-ва деревьев\n",
    "        mae, std = tune(X_cat_train, y_train, catboost_params, \n",
    "                        'iterations', iterations, random_state=43)\n",
    "\n",
    "        res.loc[i, ['depth', 'iterations', 'mae', 'std']] = \\\n",
    "        depth, iterations, mae, std\n",
    "        i += 1"
   ]
  },
  {
   "cell_type": "code",
   "execution_count": 40,
   "metadata": {
    "id": "Rba9nu_MtvTu",
    "outputId": "f2153c30-ee42-4c9d-c690-eeb3f75dd5ba"
   },
   "outputs": [
    {
     "data": {
      "image/png": "[encoded data removed]",
      "text/plain": [
       "<Figure size 432x288 with 1 Axes>"
      ]
     },
     "metadata": {
      "needs_background": "light"
     },
     "output_type": "display_data"
    }
   ],
   "source": [
    "# Зависимость МАЕ от к-ва деревьев для различной их глубины\n",
    "ax = res[res['depth'] == res['depth'].unique()[0]].plot(\n",
    "    x='iterations', y='mae',label='depth = {}'.format(res['depth'].unique()[0])\n",
    "    )\n",
    "for depth in res['depth'].unique()[1:]:\n",
    "    res[res['depth'] == depth].plot(x='iterations', y='mae', grid=True, \n",
    "                                    label='depth = {}'.format(depth), ax=ax)\n",
    "plt.ylabel('MAE')\n",
    "plt.show()"
   ]
  },
  {
   "cell_type": "code",
   "execution_count": 41,
   "metadata": {},
   "outputs": [
    {
     "name": "stdout",
     "output_type": "stream",
     "text": [
      "depth: 6\n",
      "iterations = 250: MAE = 1.289 ± 0.149\n",
      "iterations = 500: MAE = 1.269 ± 0.183\n",
      "iterations = 750: MAE = 1.261 ± 0.199\n",
      "iterations = 1000: MAE = 1.237 ± 0.183\n",
      "iterations = 1250: MAE = 1.237 ± 0.183\n",
      "iterations = 1500: MAE = 1.245 ± 0.186\n",
      "depth: 7\n",
      "iterations = 250: MAE = 1.305 ± 0.095\n",
      "iterations = 500: MAE = 1.205 ± 0.137\n",
      "iterations = 750: MAE = 1.225 ± 0.151\n",
      "iterations = 1000: MAE = 1.181 ± 0.145\n",
      "iterations = 1250: MAE = 1.169 ± 0.137\n",
      "iterations = 1500: MAE = 1.177 ± 0.143\n",
      "depth: 8\n",
      "iterations = 250: MAE = 1.249 ± 0.143\n",
      "iterations = 500: MAE = 1.205 ± 0.165\n",
      "iterations = 750: MAE = 1.225 ± 0.153\n",
      "iterations = 1000: MAE = 1.209 ± 0.158\n",
      "iterations = 1250: MAE = 1.217 ± 0.147\n",
      "iterations = 1500: MAE = 1.201 ± 0.141\n",
      "depth: 9\n",
      "iterations = 250: MAE = 1.317 ± 0.136\n",
      "iterations = 500: MAE = 1.221 ± 0.148\n",
      "iterations = 750: MAE = 1.201 ± 0.134\n",
      "iterations = 1000: MAE = 1.177 ± 0.121\n",
      "iterations = 1250: MAE = 1.157 ± 0.123\n",
      "iterations = 1500: MAE = 1.161 ± 0.133\n",
      "depth: 10\n",
      "iterations = 250: MAE = 1.281 ± 0.151\n",
      "iterations = 500: MAE = 1.201 ± 0.110\n",
      "iterations = 750: MAE = 1.197 ± 0.128\n",
      "iterations = 1000: MAE = 1.197 ± 0.113\n",
      "iterations = 1250: MAE = 1.201 ± 0.113\n",
      "iterations = 1500: MAE = 1.197 ± 0.104\n",
      "CPU times: user 52min 16s, sys: 35min 47s, total: 1h 28min 4s\n",
      "Wall time: 49min 50s\n"
     ]
    }
   ],
   "source": [
    "%%time\n",
    "\n",
    "# К-во деревьев (iterations) и число разветвлений с учетом дисбаланса классов.\n",
    "res = pd.DataFrame(columns=['depth', 'iterations', 'mae', 'std'])\n",
    "i = 1  # Порядковый номер эксперимента (индекс датасета)\n",
    "catboost_params = catboost_params_coll.copy()\n",
    "catboost_params.update({'auto_class_weights': 'Balanced'})\n",
    "\n",
    "for depth in range(6, 11):  # Диапазон числа разветвлений\n",
    "    catboost_params['depth'] = depth\n",
    "    print('depth:', depth)\n",
    "    for iterations in range(250, 1501, 250):  # Диапазон к-ва деревьев\n",
    "        mae, std = tune(X_cat_train, y_train, catboost_params, \n",
    "                        'iterations', iterations, random_state=43)\n",
    "\n",
    "        res.loc[i, ['depth', 'iterations', 'mae', 'std']] = \\\n",
    "        depth, iterations, mae, std\n",
    "        i += 1"
   ]
  },
  {
   "cell_type": "code",
   "execution_count": 42,
   "metadata": {},
   "outputs": [
    {
     "data": {
      "image/png": "[encoded data removed]",
      "text/plain": [
       "<Figure size 432x288 with 1 Axes>"
      ]
     },
     "metadata": {
      "needs_background": "light"
     },
     "output_type": "display_data"
    }
   ],
   "source": [
    "# Зависимость МАЕ от к-ва деревьев для различной их глубины с учетом дисбаланса классов\n",
    "ax = res[res['depth'] == res['depth'].unique()[0]].plot(\n",
    "    x='iterations', y='mae',label='depth = {}'.format(res['depth'].unique()[0])\n",
    "    )\n",
    "for depth in res['depth'].unique()[1:]:\n",
    "    res[res['depth'] == depth].plot(x='iterations', y='mae', grid=True, \n",
    "                                    label='depth = {}'.format(depth), ax=ax)\n",
    "plt.ylabel('MAE')\n",
    "plt.show()"
   ]
  },
  {
   "cell_type": "markdown",
   "metadata": {},
   "source": [
    "Попытка учета дисбаланса классов целевого признака явно не приносит положительного результата."
   ]
  },
  {
   "cell_type": "code",
   "execution_count": 43,
   "metadata": {},
   "outputs": [
    {
     "name": "stdout",
     "output_type": "stream",
     "text": [
      "depth: 8\n",
      "iterations = 200: MAE = 1.116 ± 0.093\n",
      "iterations = 225: MAE = 1.112 ± 0.080\n",
      "iterations = 250: MAE = 1.096 ± 0.090\n",
      "iterations = 275: MAE = 1.096 ± 0.089\n",
      "iterations = 300: MAE = 1.076 ± 0.113\n",
      "iterations = 325: MAE = 1.068 ± 0.114\n",
      "iterations = 350: MAE = 1.088 ± 0.128\n",
      "iterations = 375: MAE = 1.100 ± 0.144\n",
      "iterations = 400: MAE = 1.108 ± 0.153\n",
      "CPU times: user 4min 24s, sys: 2min 49s, total: 7min 14s\n",
      "Wall time: 4min 17s\n"
     ]
    }
   ],
   "source": [
    "%%time\n",
    "\n",
    "# Более подробный просмотр диапазона с минимальным значением МАЕ\n",
    "catboost_params = catboost_params_coll.copy()\n",
    "catboost_params['depth'] = 8\n",
    "print('depth:', catboost_params['depth'])\n",
    "\n",
    "for iterations in range(200, 401, 25):  # Диапазон к-ва деревьев\n",
    "    mae, std = tune(X_cat_train, y_train, catboost_params, \n",
    "                    'iterations', iterations, random_state=43)"
   ]
  },
  {
   "cell_type": "code",
   "execution_count": 46,
   "metadata": {
    "id": "u05iHS5O34B7"
   },
   "outputs": [],
   "source": [
    "# Фиксируем гиперпараметры с лучшей метрикой \n",
    "catboost_params_coll.update({'depth': 8, 'iterations': 325})"
   ]
  },
  {
   "cell_type": "markdown",
   "metadata": {
    "id": "ZHrgzj7uNnfy"
   },
   "source": [
    "Подбор шага градиентного спуска:"
   ]
  },
  {
   "cell_type": "code",
   "execution_count": 47,
   "metadata": {
    "id": "1cjiAHAZFeiG",
    "outputId": "dfd87a00-89be-4490-9502-e913ca94407b"
   },
   "outputs": [
    {
     "name": "stdout",
     "output_type": "stream",
     "text": [
      "catboost_params: {'depth': 8, 'iterations': 325}\n",
      "learning_rate = 0.001: MAE = 1.165 ± 0.073\n",
      "learning_rate = 0.005: MAE = 1.161 ± 0.058\n",
      "learning_rate = 0.01: MAE = 1.145 ± 0.100\n",
      "learning_rate = 0.03: MAE = 1.068 ± 0.114\n",
      "learning_rate = 0.05: MAE = 1.124 ± 0.119\n",
      "learning_rate = 0.1: MAE = 1.149 ± 0.117\n",
      "learning_rate = 0.5: MAE = 1.189 ± 0.115\n",
      "CPU times: user 3min 40s, sys: 2min 23s, total: 6min 3s\n",
      "Wall time: 3min 36s\n"
     ]
    }
   ],
   "source": [
    "%%time\n",
    "\n",
    "# Датасет для фиксации значений метрики\n",
    "res = pd.DataFrame(columns=['learning_rate', 'mae', 'std'])\n",
    "i = 1  # Порядковый номер эксперимента (индекс датасета)\n",
    "catboost_params = catboost_params_coll.copy()\n",
    "\n",
    "print('catboost_params:', catboost_params)  # Зафиксированные гиперпараметры \n",
    "for learning_rate in [.001, .005, .01, .03, .05, .1, .5]:  # Диапазон шага\n",
    "    mae, std = tune(X_cat_train, y_train, catboost_params, \n",
    "                  'learning_rate', learning_rate, random_state=43)\n",
    "\n",
    "    res.loc[i, ['learning_rate', 'mae', 'std']] = learning_rate, mae, std\n",
    "    i += 1"
   ]
  },
  {
   "cell_type": "markdown",
   "metadata": {},
   "source": [
    "Оставляем значение по умолчанию."
   ]
  },
  {
   "cell_type": "code",
   "execution_count": 48,
   "metadata": {
    "id": "7YEwVNRHB0y5",
    "outputId": "41016759-d68f-4cd9-d989-bb9c9633fe03"
   },
   "outputs": [
    {
     "data": {
      "text/plain": [
       "<catboost.core.CatBoostClassifier at 0x7f56bbd930d0>"
      ]
     },
     "execution_count": 48,
     "metadata": {},
     "output_type": "execute_result"
    }
   ],
   "source": [
    "# Обучение модели с подобранными гиперпараметрами\n",
    "catboost_default_params.update(catboost_params_coll)\n",
    "\n",
    "learn_pool = Pool(\n",
    "    X_cat_train, \n",
    "    y_train, \n",
    "    cat_features=cat_features,\n",
    "    text_features=text_features,\n",
    "    feature_names=list(X_cat_train)\n",
    ")\n",
    "\n",
    "model_30 = CatBoostClassifier(**catboost_default_params)\n",
    "model_30.fit(learn_pool, verbose=False)"
   ]
  },
  {
   "cell_type": "markdown",
   "metadata": {
    "id": "MCizE4QVO0o3"
   },
   "source": [
    "**2.2.2. Комбинация №23**  \n",
    "- Прямое кодирование признаков: 'repository_name', 'commit_author', 'dayofweek';  \n",
    "- Модель LinearRegression. "
   ]
  },
  {
   "cell_type": "code",
   "execution_count": 49,
   "metadata": {
    "id": "dXJyyQ-oLHjs",
    "outputId": "3f4fddce-9e68-43a2-a2ee-273677629604"
   },
   "outputs": [
    {
     "data": {
      "text/plain": [
       "LinearRegression()"
      ]
     },
     "execution_count": 49,
     "metadata": {},
     "output_type": "execute_result"
    }
   ],
   "source": [
    "# Обучение модели линейной регрессии\n",
    "model_23 = LinearRegression()\n",
    "model_23.fit(X_23_train, y_train)"
   ]
  },
  {
   "cell_type": "markdown",
   "metadata": {
    "id": "leoBr0m0G_1-"
   },
   "source": [
    "### 3. Тестирование модели  \n"
   ]
  },
  {
   "cell_type": "code",
   "execution_count": 50,
   "metadata": {
    "id": "UVeu5lsbiv8z",
    "outputId": "7bad4a45-2ecc-471e-db84-852558dfbbe7"
   },
   "outputs": [
    {
     "data": {
      "text/plain": [
       "1.203125"
      ]
     },
     "execution_count": 50,
     "metadata": {},
     "output_type": "execute_result"
    }
   ],
   "source": [
    "#  МАЕ константной модели (для проверки моделей на адекватность)\n",
    "mean_absolute_error(y_test, \n",
    "                    pd.Series(round(y_train.median()), index=y_test.index))"
   ]
  },
  {
   "cell_type": "code",
   "execution_count": 51,
   "metadata": {
    "id": "YtMRqACzs86X",
    "outputId": "8b95e7d6-5472-4568-9286-ce4d2b9aab6e"
   },
   "outputs": [
    {
     "data": {
      "text/plain": [
       "0.796875"
      ]
     },
     "execution_count": 51,
     "metadata": {},
     "output_type": "execute_result"
    }
   ],
   "source": [
    "# МАЕ классификатора CatBoost\n",
    "test_pool_30 = Pool(\n",
    "    X_cat_test, \n",
    "    cat_features=['repository_name', 'commit_author', 'hour', 'dayofweek'],\n",
    "    text_features=text_features,\n",
    "    feature_names=list(X_cat_test)\n",
    ")\n",
    "\n",
    "mean_absolute_error(y_test, model_30.predict(test_pool_30))"
   ]
  },
  {
   "cell_type": "code",
   "execution_count": 52,
   "metadata": {
    "id": "q374MmXEQxIG",
    "outputId": "0f8ace15-373c-4436-cd9b-0c9a003d1e26"
   },
   "outputs": [
    {
     "data": {
      "text/plain": [
       "1.109375"
      ]
     },
     "execution_count": 52,
     "metadata": {},
     "output_type": "execute_result"
    }
   ],
   "source": [
    "# МАЕ модели линейной регрессии \n",
    "mean_absolute_error(y_test, model_23.predict(X_23_test).round())"
   ]
  },
  {
   "cell_type": "markdown",
   "metadata": {
    "id": "ZhQacocf6oLl"
   },
   "source": [
    "Обе модели адекватны, т.е. имеют качество предсказания лучше, чем константной модели."
   ]
  },
  {
   "cell_type": "code",
   "execution_count": 53,
   "metadata": {
    "id": "Xjd-qLZ-SAnk",
    "outputId": "798cfd8e-3995-4d7d-cb3d-e634a90f015d"
   },
   "outputs": [
    {
     "data": {
      "text/plain": [
       "0.859375"
      ]
     },
     "execution_count": 53,
     "metadata": {},
     "output_type": "execute_result"
    }
   ],
   "source": [
    "# Ансамбль моделей\n",
    "prediction_30 = model_30.predict(X_cat_test)\n",
    "prediction_30 = prediction_30.reshape((prediction_30.shape[0], ))\n",
    "\n",
    "prediction_23 = model_23.predict(X_23_test).round()\n",
    "\n",
    "prediction_ens = ((prediction_30 + prediction_23) / 2).round()\n",
    "\n",
    "mean_absolute_error(y_test, prediction_ens)"
   ]
  },
  {
   "cell_type": "code",
   "execution_count": 54,
   "metadata": {
    "id": "8elSQJFVs0wC",
    "outputId": "56b6cc07-2b50-40f9-9986-4a05862ee354"
   },
   "outputs": [
    {
     "data": {
      "text/html": [
       "<div>\n",
       "<style scoped>\n",
       "    .dataframe tbody tr th:only-of-type {\n",
       "        vertical-align: middle;\n",
       "    }\n",
       "\n",
       "    .dataframe tbody tr th {\n",
       "        vertical-align: top;\n",
       "    }\n",
       "\n",
       "    .dataframe thead th {\n",
       "        text-align: right;\n",
       "    }\n",
       "</style>\n",
       "<table border=\"1\" class=\"dataframe\">\n",
       "  <thead>\n",
       "    <tr style=\"text-align: right;\">\n",
       "      <th></th>\n",
       "      <th>prediction</th>\n",
       "      <th>target</th>\n",
       "      <th>error</th>\n",
       "    </tr>\n",
       "  </thead>\n",
       "  <tbody>\n",
       "    <tr>\n",
       "      <th>73</th>\n",
       "      <td>2</td>\n",
       "      <td>3</td>\n",
       "      <td>-1</td>\n",
       "    </tr>\n",
       "    <tr>\n",
       "      <th>218</th>\n",
       "      <td>1</td>\n",
       "      <td>1</td>\n",
       "      <td>0</td>\n",
       "    </tr>\n",
       "    <tr>\n",
       "      <th>25</th>\n",
       "      <td>3</td>\n",
       "      <td>3</td>\n",
       "      <td>0</td>\n",
       "    </tr>\n",
       "    <tr>\n",
       "      <th>208</th>\n",
       "      <td>4</td>\n",
       "      <td>3</td>\n",
       "      <td>1</td>\n",
       "    </tr>\n",
       "    <tr>\n",
       "      <th>9</th>\n",
       "      <td>4</td>\n",
       "      <td>5</td>\n",
       "      <td>-1</td>\n",
       "    </tr>\n",
       "  </tbody>\n",
       "</table>\n",
       "</div>"
      ],
      "text/plain": [
       "     prediction  target  error\n",
       "73            2       3     -1\n",
       "218           1       1      0\n",
       "25            3       3      0\n",
       "208           4       3      1\n",
       "9             4       5     -1"
      ]
     },
     "execution_count": 54,
     "metadata": {},
     "output_type": "execute_result"
    }
   ],
   "source": [
    "check = pd.DataFrame({'prediction': prediction_30.astype(int),\n",
    "                      'target': y_test.values}, index=y_test.index)\n",
    "check['error'] = check['prediction'] - check['target']\n",
    "check.head()"
   ]
  },
  {
   "cell_type": "code",
   "execution_count": 55,
   "metadata": {
    "id": "1xuaiUE0yEiX",
    "outputId": "ef280242-9777-42fa-889b-b1bfc7cb2e9c"
   },
   "outputs": [
    {
     "data": {
      "image/png": "[encoded data removed]",
      "text/plain": [
       "<Figure size 432x288 with 1 Axes>"
      ]
     },
     "metadata": {
      "needs_background": "light"
     },
     "output_type": "display_data"
    }
   ],
   "source": [
    "ax = check.plot(y='target', kind='hist', \n",
    "            bins=check['target'].max()-check['target'].min(),\n",
    "            alpha=.5, label='Terget')\n",
    "\n",
    "check.plot(y='prediction', kind='hist',\n",
    "          bins=check['prediction'].max()-check['prediction'].min(),\n",
    "          histtype='step', linewidth=5, label='Prediction', grid=True,\n",
    "          ax=ax)\n",
    "plt.show()"
   ]
  },
  {
   "cell_type": "markdown",
   "metadata": {},
   "source": [
    "**Вывод**  \n",
    "На основе предоставленного датасета реализована модель машинного обучения со средней абсолютной ошибкой на тестовой выборке 0,8. Данного результата удалось достигнуть алгоритму классификатора CatBoost, с учетом предобработки данных.  \n",
    "Модель предсказывает только небольшое количество багов, до 4. БОльшие значения не имеют достаточного количетсва объектов для нормального обучения (как и коммиты с 0 багов). Попытка учесть дисбаланс классов приводит к снижению качетсва предсказания."
   ]
  }
 ],
 "metadata": {
  "kernelspec": {
   "display_name": "Python 3",
   "language": "python",
   "name": "python3"
  },
  "language_info": {
   "codemirror_mode": {
    "name": "ipython",
    "version": 3
   },
   "file_extension": ".py",
   "mimetype": "text/x-python",
   "name": "python",
   "nbconvert_exporter": "python",
   "pygments_lexer": "ipython3",
   "version": "3.8.0"
  }
 },
 "nbformat": 4,
 "nbformat_minor": 4
}
